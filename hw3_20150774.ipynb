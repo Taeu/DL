{
 "cells": [
  {
   "cell_type": "code",
   "execution_count": 110,
   "metadata": {},
   "outputs": [],
   "source": [
    "%matplotlib inline\n",
    "import keras\n",
    "import numpy as np\n",
    "import pandas as pd\n",
    "import matplotlib.pyplot as plt"
   ]
  },
  {
   "cell_type": "code",
   "execution_count": 131,
   "metadata": {
    "scrolled": true
   },
   "outputs": [
    {
     "name": "stdout",
     "output_type": "stream",
     "text": [
      "(42000, 785)\n",
      "(28000, 784)\n"
     ]
    }
   ],
   "source": [
    "# data load\n",
    "train = pd.read_csv(\"train.csv\")\n",
    "print(train.shape)\n",
    "train.head()\n",
    "test = pd.read_csv(\"test.csv\")\n",
    "print(test.shape)\n",
    "test.head()\n",
    "\n",
    "y_train = train[\"label\"].values\n",
    "x_train = train.drop(\"label\",axis=1)\n",
    "x_train = x_train.values\n",
    "xx_train = x_train[0:30000]\n",
    "xx_test = x_train[30000:]\n",
    "yy_train = y_train[0:30000]\n",
    "yy_test = y_train[30000:]\n"
   ]
  },
  {
   "cell_type": "code",
   "execution_count": 133,
   "metadata": {},
   "outputs": [
    {
     "name": "stdout",
     "output_type": "stream",
     "text": [
      "x_train, test =  (30000, 784) (12000, 784)\n",
      "y_train, test =  (30000,) (12000,)\n"
     ]
    }
   ],
   "source": [
    "print('x_train, test = ',xx_train.shape,xx_test.shape)\n",
    "print('y_train, test = ',yy_train.shape,yy_test.shape)"
   ]
  },
  {
   "cell_type": "code",
   "execution_count": 135,
   "metadata": {},
   "outputs": [
    {
     "name": "stdout",
     "output_type": "stream",
     "text": [
      "(30000, 10) (12000, 10)\n"
     ]
    }
   ],
   "source": [
    "from keras.utils import to_categorical\n",
    "y_train_hot  = to_categorical(yy_train)\n",
    "y_test_hot = to_categorical(yy_test)\n",
    "print(y_train_hot.shape,y_test_hot.shape)"
   ]
  },
  {
   "cell_type": "code",
   "execution_count": 137,
   "metadata": {},
   "outputs": [],
   "source": [
    "from keras.models import Sequential\n",
    "from keras.layers import Conv2D, MaxPooling2D,Flatten, Dense\n",
    "from keras.optimizers import SGD\n"
   ]
  },
  {
   "cell_type": "code",
   "execution_count": 89,
   "metadata": {},
   "outputs": [],
   "source": [
    "##Reshape"
   ]
  },
  {
   "cell_type": "code",
   "execution_count": 139,
   "metadata": {},
   "outputs": [
    {
     "name": "stdout",
     "output_type": "stream",
     "text": [
      "(30000, 28, 28, 1)\n",
      "(12000, 28, 28, 1)\n"
     ]
    }
   ],
   "source": [
    "xx_train = xx_train.reshape(30000,28,28,1)\n",
    "\n",
    "xx_test = xx_test.reshape(12000,28,28,1)\n",
    "\n",
    "print(xx_train.shape)\n",
    "print(xx_test.shape)"
   ]
  },
  {
   "cell_type": "markdown",
   "metadata": {},
   "source": [
    "# CNN\n"
   ]
  },
  {
   "cell_type": "code",
   "execution_count": 144,
   "metadata": {},
   "outputs": [
    {
     "name": "stdout",
     "output_type": "stream",
     "text": [
      "_________________________________________________________________\n",
      "Layer (type)                 Output Shape              Param #   \n",
      "=================================================================\n",
      "conv2d_192 (Conv2D)          (None, 28, 28, 64)        640       \n",
      "_________________________________________________________________\n",
      "conv2d_193 (Conv2D)          (None, 28, 28, 64)        36928     \n",
      "_________________________________________________________________\n",
      "max_pooling2d_76 (MaxPooling (None, 14, 14, 64)        0         \n",
      "_________________________________________________________________\n",
      "conv2d_194 (Conv2D)          (None, 14, 14, 128)       73856     \n",
      "_________________________________________________________________\n",
      "conv2d_195 (Conv2D)          (None, 14, 14, 128)       147584    \n",
      "_________________________________________________________________\n",
      "max_pooling2d_77 (MaxPooling (None, 7, 7, 128)         0         \n",
      "_________________________________________________________________\n",
      "conv2d_196 (Conv2D)          (None, 7, 7, 256)         295168    \n",
      "_________________________________________________________________\n",
      "conv2d_197 (Conv2D)          (None, 7, 7, 256)         590080    \n",
      "_________________________________________________________________\n",
      "conv2d_198 (Conv2D)          (None, 7, 7, 256)         590080    \n",
      "_________________________________________________________________\n",
      "max_pooling2d_78 (MaxPooling (None, 3, 3, 256)         0         \n",
      "_________________________________________________________________\n",
      "conv2d_199 (Conv2D)          (None, 3, 3, 512)         1180160   \n",
      "_________________________________________________________________\n",
      "conv2d_200 (Conv2D)          (None, 3, 3, 512)         2359808   \n",
      "_________________________________________________________________\n",
      "conv2d_201 (Conv2D)          (None, 3, 3, 512)         2359808   \n",
      "_________________________________________________________________\n",
      "max_pooling2d_79 (MaxPooling (None, 1, 1, 512)         0         \n",
      "_________________________________________________________________\n",
      "flatten_4 (Flatten)          (None, 512)               0         \n",
      "_________________________________________________________________\n",
      "dense_7 (Dense)              (None, 128)               65664     \n",
      "_________________________________________________________________\n",
      "dense_8 (Dense)              (None, 10)                1290      \n",
      "=================================================================\n",
      "Total params: 7,701,066\n",
      "Trainable params: 66,954\n",
      "Non-trainable params: 7,634,112\n",
      "_________________________________________________________________\n"
     ]
    }
   ],
   "source": [
    "#VGG net 으로 짜보기\n",
    "model = Sequential()\n",
    "\n",
    "# kernel size (filter size _) 는 3 * 3\n",
    "# activation function은 relu 가 대세\n",
    "# keral_initializer 은 잘 모르겠음\n",
    "# padding same , stride도 2를 많이 씀\n",
    "\n",
    "model.add(Conv2D(filters=64,\n",
    "                activation='relu',\n",
    "                kernel_size=(3,3),\n",
    "                padding='same',\n",
    "                trainable=False,\n",
    "                input_shape=(28,28,1)))\n",
    "model.add(Conv2D(filters=64,activation='relu',kernel_size=(3,3),padding='same',trainable=False))\n",
    "model.add(MaxPooling2D(pool_size=(2,2),strides=(2,2)))\n",
    "\n",
    "model.add(Conv2D(filters=128,activation='relu',kernel_size=(3,3),padding='same',trainable=False))\n",
    "model.add(Conv2D(filters=128,activation='relu',kernel_size=(3,3),padding='same',trainable=False))\n",
    "model.add(MaxPooling2D(pool_size=(2,2),strides=(2,2)))\n",
    "\n",
    "model.add(Conv2D(filters=256,activation='relu',kernel_size=(3,3),padding='same',trainable=False))\n",
    "model.add(Conv2D(filters=256,activation='relu',kernel_size=(3,3),padding='same',trainable=False))\n",
    "model.add(Conv2D(filters=256,activation='relu',kernel_size=(3,3),padding='same',trainable=False))\n",
    "model.add(MaxPooling2D(pool_size=(2,2),strides=(2,2)))\n",
    "\n",
    "\n",
    "model.add(Conv2D(filters=512,activation='relu',kernel_size=(3,3),padding='same',trainable=False))\n",
    "model.add(Conv2D(filters=512,activation='relu',kernel_size=(3,3),padding='same',trainable=False))\n",
    "model.add(Conv2D(filters=512,activation='relu',kernel_size=(3,3),padding='same',trainable=False))\n",
    "model.add(MaxPooling2D(pool_size=(2,2),strides=(2,2)))\n",
    "model.add(Flatten())\n",
    "\n",
    "model.add(Dense(units=128,activation='relu',kernel_initializer='he_uniform'))\n",
    "model.add(Dense(units=10,activation='sigmoid',kernel_initializer='glorot_uniform'))\n",
    "\n",
    "model.summary()\n",
    "#model 짜고\n",
    "\n",
    "\n",
    "\n"
   ]
  },
  {
   "cell_type": "code",
   "execution_count": 147,
   "metadata": {},
   "outputs": [],
   "source": [
    "\n",
    "optimizer = SGD(lr=0.1,momentum=0.9)\n",
    "model.compile(loss='categorical_crossentropy',\n",
    "             optimizer= optimizer,\n",
    "             metrics=['accuracy'])\n",
    "#categorical_crossentropy (multiclassification)"
   ]
  },
  {
   "cell_type": "code",
   "execution_count": null,
   "metadata": {},
   "outputs": [
    {
     "name": "stdout",
     "output_type": "stream",
     "text": [
      "Train on 30000 samples, validate on 12000 samples\n",
      "Epoch 1/10\n",
      "30000/30000 [==============================] - 226s 8ms/step - loss: 2.2280 - acc: 0.1480 - val_loss: 2.3017 - val_acc: 0.1127\n",
      "Epoch 2/10\n",
      "30000/30000 [==============================] - 218s 7ms/step - loss: 2.3031 - acc: 0.1084 - val_loss: 2.3032 - val_acc: 0.1057\n",
      "Epoch 3/10\n",
      "30000/30000 [==============================] - 210s 7ms/step - loss: 2.3030 - acc: 0.1054 - val_loss: 2.3011 - val_acc: 0.1127\n",
      "Epoch 4/10\n",
      "10176/30000 [=========>....................] - ETA: 1:40 - loss: 2.3022 - acc: 0.1162"
     ]
    }
   ],
   "source": [
    "model.fit(xx_train,\n",
    "          y_train_hot,\n",
    "          epochs=10,\n",
    "#           epochs=30,\n",
    "          validation_data=(xx_test, y_test_hot))"
   ]
  },
  {
   "cell_type": "code",
   "execution_count": null,
   "metadata": {},
   "outputs": [],
   "source": []
  },
  {
   "cell_type": "code",
   "execution_count": null,
   "metadata": {},
   "outputs": [],
   "source": []
  },
  {
   "cell_type": "code",
   "execution_count": null,
   "metadata": {},
   "outputs": [],
   "source": []
  }
 ],
 "metadata": {
  "kernelspec": {
   "display_name": "Python 3",
   "language": "python",
   "name": "python3"
  },
  "language_info": {
   "codemirror_mode": {
    "name": "ipython",
    "version": 3
   },
   "file_extension": ".py",
   "mimetype": "text/x-python",
   "name": "python",
   "nbconvert_exporter": "python",
   "pygments_lexer": "ipython3",
   "version": "3.6.4"
  }
 },
 "nbformat": 4,
 "nbformat_minor": 2
}
