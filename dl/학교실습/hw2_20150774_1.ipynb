{
 "cells": [
  {
   "cell_type": "code",
   "execution_count": 16,
   "metadata": {},
   "outputs": [
    {
     "name": "stdout",
     "output_type": "stream",
     "text": [
      "feature_data: (150, 4)\n",
      "feature_data: (150,)\n",
      "['sepal length (cm)', 'sepal width (cm)', 'petal length (cm)', 'petal width (cm)']\n"
     ]
    }
   ],
   "source": [
    "from sklearn import datasets\n",
    "iris = datasets.load_iris()\n",
    "print(\"feature_data:\",iris.data.shape)\n",
    "print(\"feature_data:\",iris.target.shape)\n",
    "print(iris.feature_names)"
   ]
  },
  {
   "cell_type": "code",
   "execution_count": 17,
   "metadata": {},
   "outputs": [],
   "source": [
    "import numpy as np\n",
    "X = np.array([[x[0],x[3]]for x in iris.data])\n",
    "Y = np.array([1 if y==0 else -1 for y in iris.target])"
   ]
  },
  {
   "cell_type": "code",
   "execution_count": 18,
   "metadata": {},
   "outputs": [],
   "source": [
    "train = np.random.choice(len(X),round(len(X)*0.8),replace=False)\n",
    "test = np.array(list(set(range(len(X)))-set(train)))\n",
    "X_tr = X[train]\n",
    "X_te = X[test]\n",
    "Y_tr = Y[train]\n",
    "Y_te = Y[test]"
   ]
  },
  {
   "cell_type": "code",
   "execution_count": 19,
   "metadata": {},
   "outputs": [],
   "source": [
    "import tensorflow as tf"
   ]
  },
  {
   "cell_type": "code",
   "execution_count": 20,
   "metadata": {},
   "outputs": [],
   "source": [
    "batch_size = 120\n"
   ]
  },
  {
   "cell_type": "markdown",
   "metadata": {},
   "source": [
    "# SVM Model"
   ]
  },
  {
   "cell_type": "code",
   "execution_count": 21,
   "metadata": {},
   "outputs": [
    {
     "name": "stdout",
     "output_type": "stream",
     "text": [
      "(?, 2)\n",
      "<tf.Variable 'weight:0' shape=(2, 1) dtype=float32_ref>\n"
     ]
    }
   ],
   "source": [
    "X_var = tf.placeholder(shape = [None, 2], dtype =tf.float32)\n",
    "Y_var = tf.placeholder(shape = [None,1] , dtype =tf.float32)\n",
    "\n",
    "W = tf.Variable(tf.random_normal(shape=[2,1]),name='weight')\n",
    "B = tf.Variable(tf.random_normal(shape=[1,1]),name='bias')\n",
    "\n",
    "print(X_var.shape)\n",
    "print(W)"
   ]
  },
  {
   "cell_type": "code",
   "execution_count": 22,
   "metadata": {},
   "outputs": [],
   "source": [
    "\n",
    "Output = tf.subtract(tf.matmul(X_var,W),B)\n",
    "alpha = tf.constant([0.01])\n",
    "#l2_norm\n",
    "l2_norm = tf.reduce_sum(tf.square(W))\n",
    "#margin_term in Loss\n",
    "classification_term = tf.reduce_mean(tf.maximum(0.,tf.subtract(1.,tf.multiply(Output,Y_var))))\n",
    "loss = tf.add(classification_term,tf.multiply(alpha,l2_norm))"
   ]
  },
  {
   "cell_type": "code",
   "execution_count": 23,
   "metadata": {},
   "outputs": [],
   "source": [
    "# accuracy 및 optimizer정의\n",
    "sess = tf.Session()\n",
    "pred = tf.sign(Output)\n",
    "accuracy = tf.reduce_mean(tf.cast(tf.equal(pred,Y),tf.float32))\n",
    "\n",
    "my_opt = tf.train.GradientDescentOptimizer(0.01)\n",
    "train_step = my_opt.minimize(loss)\n",
    "\n",
    "init = tf.global_variables_initializer()\n",
    "sess.run(init)\n",
    "\n"
   ]
  },
  {
   "cell_type": "code",
   "execution_count": 24,
   "metadata": {},
   "outputs": [
    {
     "name": "stdout",
     "output_type": "stream",
     "text": [
      "Step #100 W = [[ 0.20394273]\n",
      " [-0.94218266]] B= [[0.78497565]]\n",
      "Loss = [0.44833606]\n",
      "Step #200 W = [[ 0.24807955]\n",
      " [-1.198553  ]] B= [[0.7178918]]\n",
      "Loss = [0.3251774]\n",
      "Step #300 W = [[ 0.30119509]\n",
      " [-1.4517821 ]] B= [[0.6489751]]\n",
      "Loss = [0.26910502]\n",
      "Step #400 W = [[ 0.33061114]\n",
      " [-1.6954386 ]] B= [[0.58464164]]\n",
      "Loss = [0.20019376]\n",
      "Step #500 W = [[ 0.35897216]\n",
      " [-1.8989607 ]] B= [[0.5256416]]\n",
      "Loss = [0.15490103]\n",
      "Step #600 W = [[ 0.37461463]\n",
      " [-2.0482326 ]] B= [[0.47522515]]\n",
      "Loss = [0.12832102]\n",
      "Step #700 W = [[ 0.37946504]\n",
      " [-2.1499493 ]] B= [[0.43364164]]\n",
      "Loss = [0.13275228]\n",
      "Step #800 W = [[ 0.37034866]\n",
      " [-2.2333238 ]] B= [[0.39914158]]\n",
      "Loss = [0.09676]\n",
      "Step #900 W = [[ 0.3828267]\n",
      " [-2.298892 ]] B= [[0.3649749]]\n",
      "Loss = [0.10233553]\n",
      "Step #1000 W = [[ 0.38477626]\n",
      " [-2.3509777 ]] B= [[0.33689147]]\n",
      "Loss = [0.09131193]\n"
     ]
    }
   ],
   "source": [
    "loss_vec = []\n",
    "train_accuracy =[]\n",
    "test_accuracy=[]\n",
    "for i in range(1000):\n",
    "    rand_index = np.random.choice(len(X_tr),size=batch_size)\n",
    "    rand_x = X_tr[rand_index]\n",
    "    rand_y = np.transpose([Y_tr[rand_index]])\n",
    "    sess.run(train_step, feed_dict={\n",
    "        X_var : rand_x,\n",
    "        Y_var : rand_y\n",
    "    })\n",
    "    \n",
    "    temp_loss = sess.run(loss,feed_dict={\n",
    "        X_var : rand_x,\n",
    "        Y_var : rand_y\n",
    "    })\n",
    "    loss_vec.append(temp_loss)\n",
    "    \n",
    "    train_acc_temp = sess.run(accuracy,feed_dict={\n",
    "        X_var : rand_x,\n",
    "        Y_var : np.transpose([Y_tr])\n",
    "    })\n",
    "    train_accuracy.append(train_acc_temp)\n",
    "    \n",
    "    test_acc_temp = sess.run(accuracy, feed_dict={\n",
    "        X_var : X_te,\n",
    "        Y_var : np.transpose([Y_te])\n",
    "    })\n",
    "    \n",
    "    test_accuracy.append(test_acc_temp)\n",
    "    \n",
    "    if(i+1)%100==0:\n",
    "        print('Step #{} W = {} B= {}'.format(str(i+1),str(sess.run(W)),str(sess.run(B))))\n",
    "        print('Loss = ' + str(temp_loss))\n",
    "        \n"
   ]
  },
  {
   "cell_type": "code",
   "execution_count": 25,
   "metadata": {},
   "outputs": [],
   "source": [
    "#Ectract coefficients\n",
    "[[a1],[a2]] = sess.run(W)\n",
    "[[b]] = sess.run(B)\n",
    "slope = -a2/a1\n",
    "y_intercept = b/a1\n",
    "\n",
    "#Extract x1 and x2 vals\n",
    "x1_vals = [d[1] for d in X]\n",
    "\n",
    "#Get best fit line\n",
    "best_fit=[]\n",
    "for i in x1_vals:\n",
    "    best_fit.append(slope*i+y_intercept)\n",
    "\n",
    "#Separate 1. setosa\n",
    "setosa_x = [d[1] for i, d in enumerate(X) if Y[i] == 1]\n",
    "setosa_y = [d[0] for i, d in enumerate(X) if Y[i] == 1]\n",
    "not_setosa_x = [d[1] for i,d in enumerate(X) if Y[i] == -1]\n",
    "not_setosa_y = [d[0] for i,d in enumerate(X) if Y[i] == -1]\n"
   ]
  },
  {
   "cell_type": "code",
   "execution_count": 26,
   "metadata": {},
   "outputs": [],
   "source": [
    "from tensorflow.python.framework import ops\n",
    "ops.reset_default_graph()"
   ]
  },
  {
   "cell_type": "code",
   "execution_count": 27,
   "metadata": {},
   "outputs": [
    {
     "data": {
      "image/png": "[encoded data removed]",
      "text/plain": [
       "<matplotlib.figure.Figure at 0x2168e1370b8>"
      ]
     },
     "metadata": {},
     "output_type": "display_data"
    },
    {
     "data": {
      "image/png": "[encoded data removed]",
      "text/plain": [
       "<matplotlib.figure.Figure at 0x2168ef09080>"
      ]
     },
     "metadata": {},
     "output_type": "display_data"
    },
    {
     "data": {
      "image/png": "[encoded data removed]",
      "text/plain": [
       "<matplotlib.figure.Figure at 0x2168eed4860>"
      ]
     },
     "metadata": {},
     "output_type": "display_data"
    }
   ],
   "source": [
    "%matplotlib inline\n",
    "import matplotlib.pyplot as plt\n",
    "#Plot data and Line\n",
    "plt.plot(setosa_x, setosa_y, 'o', label='I. Setota')\n",
    "plt.plot(not_setosa_x,not_setosa_y, 'x', label = 'Non-setosa')\n",
    "plt.plot(x1_vals, best_fit, 'r-',label='Linear Separtor',linewidth=3)\n",
    "plt.ylim([0,10])\n",
    "plt.legend(loc='lower right')\n",
    "plt.title('Sepal Length vs Pedal Width')\n",
    "plt.xlabel('Pedal Width')\n",
    "plt.ylabel('Sepal Length')\n",
    "plt.show()\n",
    "\n",
    "#plot train/test accuracies\n",
    "plt.plot(train_accuracy, 'k-', label = 'Training Accuracy')\n",
    "plt.plot(test_accuracy,'r--',label = 'Test Accuracy')\n",
    "plt.title('Train and Test Set Accuracies')\n",
    "plt.xlabel('Generation')\n",
    "plt.ylabel('Accuracy')\n",
    "plt.legend(loc='lower right')\n",
    "plt.show()\n",
    "\n",
    "#Plot loss over time\n",
    "plt.plot(loss_vec, 'k-')\n",
    "plt.title('Loss per Generation')\n",
    "plt.xlabel('Generation')\n",
    "plt.ylabel('Loss')\n",
    "plt.show()\n"
   ]
  },
  {
   "cell_type": "code",
   "execution_count": null,
   "metadata": {},
   "outputs": [],
   "source": [
    "# wine data\n",
    "from sklearn import datasets\n",
    "wine = datasets.load_wine()\n",
    "print(\"feature_data:\",wine.data.shape)\n",
    "print(\"feature_data:\",wine.target.shape)\n",
    "import numpy as np\n",
    "X = np.array([[x[1],x[6]] for x in wine.data])\n",
    "Y = np.array([1 if y==0 else -1 for y in wine.target])\n",
    "print(len(Y))\n",
    "train = np.random.choice(len(X),round(len(X)*0.8),replace=False)\n",
    "test = np.array(list(set(range(len(X)))-set(train)))\n",
    "X_tr = X[train]\n",
    "X_te = X[test]\n",
    "Y_tr = Y[train]\n",
    "Y_te = Y[test]\n",
    "print(Y_tr)\n",
    "print(Y_te)\n",
    "import tensorflow as tf\n",
    "batch_size = len(train)\n",
    "X_var = tf.placeholder(shape = [None, 2], dtype =tf.float32)\n",
    "Y_var = tf.placeholder(shape = [None,1] , dtype =tf.float32)\n",
    "\n",
    "W = tf.Variable(tf.random_normal(shape=[2,1]),name='weight')\n",
    "B = tf.Variable(tf.random_normal(shape=[1,1]),name='bias')\n",
    "\n",
    "print(X_var.shape)\n",
    "print(W)\n",
    "\n",
    "Output = tf.subtract(tf.matmul(X_var,W),B)\n",
    "alpha = tf.constant([0.01])\n",
    "#l2_norm\n",
    "l2_norm = tf.reduce_sum(tf.square(W))\n",
    "#margin_term in Loss\n",
    "classification_term = tf.reduce_mean(tf.maximum(0.,tf.subtract(1.,tf.multiply(Output,Y_var))))\n",
    "loss = tf.add(classification_term,tf.multiply(alpha,l2_norm))\n",
    "# accuracy 및 optimizer정의\n",
    "sess = tf.Session()\n",
    "pred = tf.sign(Output)\n",
    "accuracy = tf.reduce_mean(tf.cast(tf.equal(pred,Y),tf.float32))\n",
    "\n",
    "my_opt = tf.train.GradientDescentOptimizer(0.01)\n",
    "train_step = my_opt.minimize(loss)\n",
    "\n",
    "init = tf.global_variables_initializer()\n",
    "sess.run(init)\n",
    "\n",
    "loss_vec = []\n",
    "train_accuracy =[]\n",
    "test_accuracy=[]\n",
    "for i in range(1000):\n",
    "    rand_index = np.random.choice(len(X_tr),size=batch_size)\n",
    "    rand_x = X_tr[rand_index]\n",
    "    rand_y = np.transpose([Y_tr[rand_index]])\n",
    "    sess.run(train_step, feed_dict={\n",
    "        X_var : rand_x,\n",
    "        Y_var : rand_y\n",
    "    })\n",
    "    \n",
    "    temp_loss = sess.run(loss,feed_dict={\n",
    "        X_var : rand_x,\n",
    "        Y_var : rand_y\n",
    "    })\n",
    "    loss_vec.append(temp_loss)\n",
    "    \n",
    "    train_acc_temp = sess.run(accuracy,feed_dict={\n",
    "        X_var : rand_x,\n",
    "        Y_var : np.transpose([Y_tr])\n",
    "    })\n",
    "    train_accuracy.append(train_acc_temp)\n",
    "    \n",
    "    test_acc_temp = sess.run(accuracy, feed_dict={\n",
    "        X_var : X_te,\n",
    "        Y_var : np.transpose([Y_te])\n",
    "    })\n",
    "    \n",
    "    test_accuracy.append(test_acc_temp)\n",
    "    \n",
    "    if(i+1)%100==0:\n",
    "        print('Step #{} W = {} B= {}'.format(str(i+1),str(sess.run(W)),str(sess.run(B))))\n",
    "        print('Loss = ' + str(temp_loss))\n",
    "        \n",
    "#Ectract coefficients\n",
    "[[a1],[a2]] = sess.run(W)\n",
    "[[b]] = sess.run(B)\n",
    "slope = -a2/a1\n",
    "y_intercept = b/a1\n",
    "\n",
    "#Extract x1 and x2 vals\n",
    "x1_vals = [d[1] for d in X]\n",
    "\n",
    "#Get best fit line\n",
    "best_fit=[]\n",
    "for i in x1_vals:\n",
    "    best_fit.append(slope*i+y_intercept)\n",
    "\n",
    "#Separate 1. class_0\n",
    "class_0_x = [d[1] for i, d in enumerate(X) if Y[i] == 1]\n",
    "class_0_y = [d[0] for i, d in enumerate(X) if Y[i] == 1]\n",
    "not_class_0_x = [d[1] for i,d in enumerate(X) if Y[i] == -1]\n",
    "not_class_0_y = [d[0] for i,d in enumerate(X) if Y[i] == -1]\n",
    "from tensorflow.python.framework import ops\n",
    "ops.reset_default_graph()\n",
    "%matplotlib inline\n",
    "import matplotlib.pyplot as plt\n",
    "#Plot data and Line\n",
    "plt.plot(class_0_x, class_0_y, 'o', label='I. class_0')\n",
    "plt.plot(not_class_0_x,not_class_0_y, 'x', label = 'Non-class_0')\n",
    "plt.plot(x1_vals,best_fit, 'r-',label='Linear Separtor',linewidth=3)\n",
    "plt.ylim([0,5])\n",
    "plt.legend(loc='lower right')\n",
    "plt.title('malic_acid vs flavanoids')\n",
    "plt.xlabel('malic_acid')\n",
    "plt.ylabel('flavanoids')\n",
    "plt.show()\n",
    "\n",
    "#plot train/test accuracies\n",
    "plt.plot(train_accuracy, 'k-', label = 'Training Accuracy')\n",
    "plt.plot(test_accuracy,'r--',label = 'Test Accuracy')\n",
    "plt.title('Train and Test Set Accuracies')\n",
    "plt.xlabel('Generation')\n",
    "plt.ylabel('Accuracy')\n",
    "plt.legend(loc='lower right')\n",
    "plt.show()\n",
    "\n",
    "#Plot loss over time\n",
    "plt.plot(loss_vec, 'k-')\n",
    "plt.title('Loss per Generation')\n",
    "plt.xlabel('Generation')\n",
    "plt.ylabel('Loss')\n",
    "plt.show()\n"
   ]
  },
  {
   "cell_type": "code",
   "execution_count": null,
   "metadata": {},
   "outputs": [],
   "source": []
  },
  {
   "cell_type": "code",
   "execution_count": null,
   "metadata": {},
   "outputs": [],
   "source": []
  },
  {
   "cell_type": "code",
   "execution_count": null,
   "metadata": {},
   "outputs": [],
   "source": []
  }
 ],
 "metadata": {
  "kernelspec": {
   "display_name": "Python 3",
   "language": "python",
   "name": "python3"
  },
  "language_info": {
   "codemirror_mode": {
    "name": "ipython",
    "version": 3
   },
   "file_extension": ".py",
   "mimetype": "text/x-python",
   "name": "python",
   "nbconvert_exporter": "python",
   "pygments_lexer": "ipython3",
   "version": "3.6.4"
  }
 },
 "nbformat": 4,
 "nbformat_minor": 2
}
