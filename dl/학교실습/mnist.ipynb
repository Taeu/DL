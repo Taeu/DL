{
 "cells": [
  {
   "cell_type": "code",
   "execution_count": 46,
   "metadata": {},
   "outputs": [
    {
     "name": "stdout",
     "output_type": "stream",
     "text": [
      "(10000, 784)\n"
     ]
    }
   ],
   "source": [
    "import numpy as np\n",
    "import pandas as pd\n",
    "from keras.datasets import mnist\n",
    "%matplotlib inline\n",
    "import matplotlib.pyplot as plt\n",
    "from keras.utils import to_categorical\n",
    "#define useful function\n",
    "def sigmoid(x):\n",
    "    return 1/(1+np.exp(-x))\n",
    "\n",
    "def cross_entropy(actual, predict, eps=1e-15):\n",
    "    actual = np.array(actual)\n",
    "    predict = np.array(predict)\n",
    "    \n",
    "    clipped_predict = np.minimum(np.maximum(predict,eps),1-eps)\n",
    "    loss = actual*np.log(clipped_predict)+(1-actual)*np.log(1-clipped_predict)\n",
    "    return -1.0*loss.mean()\n",
    "\n",
    "# parameter load and declare\n",
    "((x_train,y_train),(x_test,y_test)) = mnist.load_data()\n",
    "x_train = x_train.reshape(60000,28*28)\n",
    "x_test = x_test.reshape(10000,28*28)\n",
    "print(x_test.shape)\n",
    "y_train_hot = to_categorical(y_train)\n",
    "y_test_hot = to_categorical(y_test)"
   ]
  },
  {
   "cell_type": "markdown",
   "metadata": {},
   "source": [
    "### solving Mnist by Simple Neural NetWork MLP"
   ]
  },
  {
   "cell_type": "code",
   "execution_count": 47,
   "metadata": {},
   "outputs": [
    {
     "name": "stderr",
     "output_type": "stream",
     "text": [
      "C:\\Users\\user\\Anaconda3\\lib\\site-packages\\ipykernel_launcher.py:9: RuntimeWarning: overflow encountered in exp\n",
      "  if __name__ == '__main__':\n"
     ]
    },
    {
     "name": "stdout",
     "output_type": "stream",
     "text": [
      " 0 accuracy = 0.065, loss = 18.60329\n",
      "10 accuracy = 0.695, loss = 1.72690\n",
      "20 accuracy = 0.711, loss = 1.39411\n",
      "30 accuracy = 0.612, loss = 1.99717\n",
      "40 accuracy = 0.778, loss = 1.66784\n",
      "learning finished\n",
      "44 accuracy = 0.84118, loss = 1.35094\n"
     ]
    }
   ],
   "source": [
    "num_epoch = 100\n",
    "learning_rate = 0.01\n",
    "w=np.random.uniform(low=-1.0,high=1.0,size=(784,10))\n",
    "b=np.random.uniform(low=-1.0,high=1.0,size=10)\n",
    "\n",
    "for epoch in range(num_epoch):\n",
    "    y_predict_hot = x_train.dot(w)+b\n",
    "    y_predict_hot = sigmoid(y_predict_hot)\n",
    "    y_predict = np.argmax(y_predict_hot,axis=1)\n",
    "    accuracy = (y_predict==y_train).mean()\n",
    "    if accuracy >0.8:\n",
    "        break\n",
    "    loss = cross_entropy(y_train_hot,y_predict_hot)\n",
    "    \n",
    "    if epoch%10 ==0:\n",
    "        print(\"{:2} accuracy = {:.3f}, loss = {:.5f}\".format(epoch,accuracy,loss))\n",
    "    \n",
    "    w = w -learning_rate*x_train.T.dot(y_predict_hot-y_train_hot)\n",
    "    b = b - learning_rate*(y_predict_hot-y_train_hot).mean(axis=0)\n",
    "print('learning finished')\n",
    "print(\"{0:2} accuracy = {1:.5f}, loss = {2:.5f}\".format(epoch, accuracy, loss))\n",
    "    "
   ]
  },
  {
   "cell_type": "code",
   "execution_count": 48,
   "metadata": {},
   "outputs": [],
   "source": [
    "## Evaluate"
   ]
  },
  {
   "cell_type": "code",
   "execution_count": 49,
   "metadata": {},
   "outputs": [
    {
     "name": "stdout",
     "output_type": "stream",
     "text": [
      "0.8411833333333333\n"
     ]
    },
    {
     "name": "stderr",
     "output_type": "stream",
     "text": [
      "C:\\Users\\user\\Anaconda3\\lib\\site-packages\\ipykernel_launcher.py:9: RuntimeWarning: overflow encountered in exp\n",
      "  if __name__ == '__main__':\n"
     ]
    },
    {
     "data": {
      "text/html": [
       "<div>\n",
       "<style scoped>\n",
       "    .dataframe tbody tr th:only-of-type {\n",
       "        vertical-align: middle;\n",
       "    }\n",
       "\n",
       "    .dataframe tbody tr th {\n",
       "        vertical-align: top;\n",
       "    }\n",
       "\n",
       "    .dataframe thead th {\n",
       "        text-align: right;\n",
       "    }\n",
       "</style>\n",
       "<table border=\"1\" class=\"dataframe\">\n",
       "  <thead>\n",
       "    <tr style=\"text-align: right;\">\n",
       "      <th></th>\n",
       "      <th>actual</th>\n",
       "      <th>predict</th>\n",
       "      <th>x correct?</th>\n",
       "    </tr>\n",
       "  </thead>\n",
       "  <tbody>\n",
       "    <tr>\n",
       "      <th>0</th>\n",
       "      <td>5</td>\n",
       "      <td>5</td>\n",
       "      <td>True</td>\n",
       "    </tr>\n",
       "    <tr>\n",
       "      <th>1</th>\n",
       "      <td>0</td>\n",
       "      <td>0</td>\n",
       "      <td>True</td>\n",
       "    </tr>\n",
       "    <tr>\n",
       "      <th>2</th>\n",
       "      <td>4</td>\n",
       "      <td>4</td>\n",
       "      <td>True</td>\n",
       "    </tr>\n",
       "    <tr>\n",
       "      <th>3</th>\n",
       "      <td>1</td>\n",
       "      <td>1</td>\n",
       "      <td>True</td>\n",
       "    </tr>\n",
       "    <tr>\n",
       "      <th>4</th>\n",
       "      <td>9</td>\n",
       "      <td>9</td>\n",
       "      <td>True</td>\n",
       "    </tr>\n",
       "    <tr>\n",
       "      <th>5</th>\n",
       "      <td>2</td>\n",
       "      <td>2</td>\n",
       "      <td>True</td>\n",
       "    </tr>\n",
       "    <tr>\n",
       "      <th>6</th>\n",
       "      <td>1</td>\n",
       "      <td>1</td>\n",
       "      <td>True</td>\n",
       "    </tr>\n",
       "    <tr>\n",
       "      <th>7</th>\n",
       "      <td>3</td>\n",
       "      <td>3</td>\n",
       "      <td>True</td>\n",
       "    </tr>\n",
       "    <tr>\n",
       "      <th>8</th>\n",
       "      <td>1</td>\n",
       "      <td>1</td>\n",
       "      <td>True</td>\n",
       "    </tr>\n",
       "    <tr>\n",
       "      <th>9</th>\n",
       "      <td>4</td>\n",
       "      <td>4</td>\n",
       "      <td>True</td>\n",
       "    </tr>\n",
       "  </tbody>\n",
       "</table>\n",
       "</div>"
      ],
      "text/plain": [
       "   actual  predict  x correct?\n",
       "0       5        5        True\n",
       "1       0        0        True\n",
       "2       4        4        True\n",
       "3       1        1        True\n",
       "4       9        9        True\n",
       "5       2        2        True\n",
       "6       1        1        True\n",
       "7       3        3        True\n",
       "8       1        1        True\n",
       "9       4        4        True"
      ]
     },
     "execution_count": 49,
     "metadata": {},
     "output_type": "execute_result"
    }
   ],
   "source": [
    "y_predict_hot = x_train.dot(w)+b\n",
    "y_predict_hot = sigmoid(y_predict_hot)\n",
    "y_predict = np.argmax(y_predict_hot,axis=1)\n",
    "correct = (y_predict == y_train)\n",
    "train_result = pd.DataFrame({'actual':y_train,'predict':y_predict,'x correct?': correct})\n",
    "train_accuracy = correct.astype('int').mean()\n",
    "print(train_accuracy)\n",
    "train_result.head(10)"
   ]
  },
  {
   "cell_type": "code",
   "execution_count": 50,
   "metadata": {},
   "outputs": [],
   "source": [
    "## test"
   ]
  },
  {
   "cell_type": "code",
   "execution_count": null,
   "metadata": {},
   "outputs": [],
   "source": []
  },
  {
   "cell_type": "code",
   "execution_count": 51,
   "metadata": {},
   "outputs": [
    {
     "name": "stdout",
     "output_type": "stream",
     "text": [
      "accuracy 0.8469\n"
     ]
    },
    {
     "name": "stderr",
     "output_type": "stream",
     "text": [
      "C:\\Users\\user\\Anaconda3\\lib\\site-packages\\ipykernel_launcher.py:9: RuntimeWarning: overflow encountered in exp\n",
      "  if __name__ == '__main__':\n"
     ]
    },
    {
     "data": {
      "text/html": [
       "<div>\n",
       "<style scoped>\n",
       "    .dataframe tbody tr th:only-of-type {\n",
       "        vertical-align: middle;\n",
       "    }\n",
       "\n",
       "    .dataframe tbody tr th {\n",
       "        vertical-align: top;\n",
       "    }\n",
       "\n",
       "    .dataframe thead th {\n",
       "        text-align: right;\n",
       "    }\n",
       "</style>\n",
       "<table border=\"1\" class=\"dataframe\">\n",
       "  <thead>\n",
       "    <tr style=\"text-align: right;\">\n",
       "      <th></th>\n",
       "      <th>predict</th>\n",
       "      <th>test_data</th>\n",
       "      <th>xxx is correct?</th>\n",
       "    </tr>\n",
       "  </thead>\n",
       "  <tbody>\n",
       "    <tr>\n",
       "      <th>0</th>\n",
       "      <td>7</td>\n",
       "      <td>7</td>\n",
       "      <td>True</td>\n",
       "    </tr>\n",
       "    <tr>\n",
       "      <th>1</th>\n",
       "      <td>2</td>\n",
       "      <td>2</td>\n",
       "      <td>True</td>\n",
       "    </tr>\n",
       "    <tr>\n",
       "      <th>2</th>\n",
       "      <td>1</td>\n",
       "      <td>1</td>\n",
       "      <td>True</td>\n",
       "    </tr>\n",
       "    <tr>\n",
       "      <th>3</th>\n",
       "      <td>0</td>\n",
       "      <td>0</td>\n",
       "      <td>True</td>\n",
       "    </tr>\n",
       "    <tr>\n",
       "      <th>4</th>\n",
       "      <td>4</td>\n",
       "      <td>4</td>\n",
       "      <td>True</td>\n",
       "    </tr>\n",
       "    <tr>\n",
       "      <th>5</th>\n",
       "      <td>1</td>\n",
       "      <td>1</td>\n",
       "      <td>True</td>\n",
       "    </tr>\n",
       "    <tr>\n",
       "      <th>6</th>\n",
       "      <td>4</td>\n",
       "      <td>4</td>\n",
       "      <td>True</td>\n",
       "    </tr>\n",
       "    <tr>\n",
       "      <th>7</th>\n",
       "      <td>9</td>\n",
       "      <td>9</td>\n",
       "      <td>True</td>\n",
       "    </tr>\n",
       "    <tr>\n",
       "      <th>8</th>\n",
       "      <td>0</td>\n",
       "      <td>5</td>\n",
       "      <td>False</td>\n",
       "    </tr>\n",
       "    <tr>\n",
       "      <th>9</th>\n",
       "      <td>9</td>\n",
       "      <td>9</td>\n",
       "      <td>True</td>\n",
       "    </tr>\n",
       "  </tbody>\n",
       "</table>\n",
       "</div>"
      ],
      "text/plain": [
       "   predict  test_data  xxx is correct?\n",
       "0        7          7             True\n",
       "1        2          2             True\n",
       "2        1          1             True\n",
       "3        0          0             True\n",
       "4        4          4             True\n",
       "5        1          1             True\n",
       "6        4          4             True\n",
       "7        9          9             True\n",
       "8        0          5            False\n",
       "9        9          9             True"
      ]
     },
     "execution_count": 51,
     "metadata": {},
     "output_type": "execute_result"
    }
   ],
   "source": [
    "\n",
    "y_predict_hot = x_test.dot(w)+b\n",
    "y_predict_hot = sigmoid(y_predict_hot)\n",
    "y_predict = np.argmax(y_predict_hot,axis=1)\n",
    "\n",
    "accuracy = (y_test==y_predict).mean()\n",
    "print('accuracy',accuracy)\n",
    "test_result = pd.DataFrame({'test_data':y_test,'predict':y_predict,'xxx is correct?':(y_test==y_predict)})\n",
    "test_result.head(10)"
   ]
  },
  {
   "cell_type": "code",
   "execution_count": 52,
   "metadata": {},
   "outputs": [],
   "source": [
    "### Solving MNIST problem using Multi-layer Neural Network 2-hidden layer "
   ]
  },
  {
   "cell_type": "code",
   "execution_count": 53,
   "metadata": {},
   "outputs": [
    {
     "name": "stderr",
     "output_type": "stream",
     "text": [
      "C:\\Users\\user\\Anaconda3\\lib\\site-packages\\ipykernel_launcher.py:9: RuntimeWarning: overflow encountered in exp\n",
      "  if __name__ == '__main__':\n"
     ]
    },
    {
     "name": "stdout",
     "output_type": "stream",
     "text": [
      "0 accuracy = 0.107, loss = 4.152\n",
      "1 accuracy = 0.097, loss = 11.798\n",
      "2 accuracy = 0.102, loss = 0.844\n",
      "3 accuracy = 0.102, loss = 0.842\n",
      "4 accuracy = 0.102, loss = 0.840\n",
      "5 accuracy = 0.102, loss = 0.838\n",
      "6 accuracy = 0.102, loss = 0.835\n",
      "7 accuracy = 0.102, loss = 0.833\n",
      "8 accuracy = 0.102, loss = 0.831\n",
      "9 accuracy = 0.102, loss = 0.828\n",
      "10 accuracy = 0.102, loss = 0.826\n",
      "11 accuracy = 0.102, loss = 0.824\n",
      "12 accuracy = 0.102, loss = 0.822\n",
      "13 accuracy = 0.102, loss = 0.820\n",
      "14 accuracy = 0.102, loss = 0.817\n",
      "15 accuracy = 0.102, loss = 0.815\n",
      "16 accuracy = 0.102, loss = 0.813\n",
      "17 accuracy = 0.102, loss = 0.811\n",
      "18 accuracy = 0.102, loss = 0.809\n"
     ]
    },
    {
     "ename": "KeyboardInterrupt",
     "evalue": "",
     "output_type": "error",
     "traceback": [
      "\u001b[1;31m---------------------------------------------------------------------------\u001b[0m",
      "\u001b[1;31mKeyboardInterrupt\u001b[0m                         Traceback (most recent call last)",
      "\u001b[1;32m<ipython-input-53-64f73e4eb242>\u001b[0m in \u001b[0;36m<module>\u001b[1;34m()\u001b[0m\n\u001b[0;32m     11\u001b[0m     \u001b[0mz1\u001b[0m \u001b[1;33m=\u001b[0m \u001b[0mx_train\u001b[0m\u001b[1;33m.\u001b[0m\u001b[0mdot\u001b[0m\u001b[1;33m(\u001b[0m\u001b[0mw1\u001b[0m\u001b[1;33m)\u001b[0m\u001b[1;33m+\u001b[0m\u001b[0mb1\u001b[0m\u001b[1;33m\u001b[0m\u001b[0m\n\u001b[0;32m     12\u001b[0m     \u001b[0ma1\u001b[0m \u001b[1;33m=\u001b[0m \u001b[0msigmoid\u001b[0m\u001b[1;33m(\u001b[0m\u001b[0mz1\u001b[0m\u001b[1;33m)\u001b[0m\u001b[1;33m\u001b[0m\u001b[0m\n\u001b[1;32m---> 13\u001b[1;33m     \u001b[0mz2\u001b[0m \u001b[1;33m=\u001b[0m \u001b[0ma1\u001b[0m\u001b[1;33m.\u001b[0m\u001b[0mdot\u001b[0m\u001b[1;33m(\u001b[0m\u001b[0mw2\u001b[0m\u001b[1;33m)\u001b[0m\u001b[1;33m+\u001b[0m\u001b[0mb2\u001b[0m\u001b[1;33m\u001b[0m\u001b[0m\n\u001b[0m\u001b[0;32m     14\u001b[0m     \u001b[0ma2\u001b[0m \u001b[1;33m=\u001b[0m \u001b[0msigmoid\u001b[0m\u001b[1;33m(\u001b[0m\u001b[0mz2\u001b[0m\u001b[1;33m)\u001b[0m\u001b[1;33m\u001b[0m\u001b[0m\n\u001b[0;32m     15\u001b[0m \u001b[1;33m\u001b[0m\u001b[0m\n",
      "\u001b[1;31mKeyboardInterrupt\u001b[0m: "
     ]
    }
   ],
   "source": [
    "num_epoch = 300\n",
    "learning_rate = 0.01\n",
    "\n",
    "w2 = np.random.uniform(low=-1.0,high=1.0,size=(784,10))\n",
    "w1 = np.random.uniform(low=-1.0,high=1.0,size=(784,784))\n",
    "b2 = np.random.uniform(low=-1.0,high=1.0,size=10)\n",
    "b1 = np.random.uniform(low=-1.0,high=1.0,size=784)\n",
    "\n",
    "for epoch in range(num_epoch):\n",
    "    \n",
    "    z1 = x_train.dot(w1)+b1\n",
    "    a1 = sigmoid(z1)\n",
    "    z2 = a1.dot(w2)+b2\n",
    "    a2 = sigmoid(z2)\n",
    "    \n",
    "    d2 = a2-y_train_hot  #(60000,10)\n",
    "    d1 = (a1*(1-a1)).T.dot(x_train).dot(w2) # (784,10)\n",
    "    \n",
    "    y_predict = np.argmax(a2,axis=1)\n",
    "    accuracy = (y_predict==y_train).mean()\n",
    "    loss = cross_entropy(y_train_hot,a2)\n",
    "    if(accuracy >0.99) :\n",
    "        break\n",
    "    if(epoch %1 == 0 ):\n",
    "        print(\"{} accuracy = {:.3f}, loss = {:.3f}\".format(epoch,accuracy,loss))\n",
    "    \n",
    "    w2 = w2-learning_rate*(d2.T.dot(a1)).T\n",
    "    b2 = b2-learning_rate*d2.mean(axis=0)\n",
    "    w1 = w1-learning_rate*d1.dot(d2.T).dot(x_train)\n",
    "    b1 = b1-learning_rate*d1.dot(d2.T).mean(axis=1)\n",
    "    \n",
    "\n",
    "print('----' * 10)\n",
    "print(\"{0:2} accuracy = {1:.5f}\".format(epoch, accuracy))    \n",
    "    "
   ]
  },
  {
   "cell_type": "code",
   "execution_count": null,
   "metadata": {},
   "outputs": [],
   "source": [
    "##Result"
   ]
  },
  {
   "cell_type": "code",
   "execution_count": null,
   "metadata": {},
   "outputs": [],
   "source": [
    "z1 = x_train.dot(w1)+b1\n",
    "a1 = sigmoid(z1)\n",
    "z2 = a1.dot(w2)+b2\n",
    "a2 = sigmoid(z2)\n",
    "y_predict = np.argmax(a2,axis=1)\n",
    "correct = (y_predict == y_train)\n",
    "train_result = pd.DataFrame({'actual':y_train,'predict':y_predict,'x correct?': correct})\n",
    "train_accuracy = correct.astype('int').mean()\n",
    "print(train_accuracy)\n",
    "train_result.head(10)"
   ]
  },
  {
   "cell_type": "code",
   "execution_count": null,
   "metadata": {},
   "outputs": [],
   "source": [
    "## test data"
   ]
  },
  {
   "cell_type": "code",
   "execution_count": null,
   "metadata": {},
   "outputs": [],
   "source": [
    "\n",
    "z1 = x_test.dot(w1)+b1\n",
    "a1 = sigmoid(z1)\n",
    "z2 = a1.dot(w2)+b2\n",
    "a2 = sigmoid(z2)\n",
    "y_predict = np.argmax(a2,axis=1)\n",
    "\n",
    "accuracy = (y_test==y_predict).mean()\n",
    "print('accuracy',accuracy)\n",
    "test_result = pd.DataFrame({'test_data':y_test,'predict':y_predict,'xxx is correct?':(y_test==y_predict)})\n",
    "test_result.head(10)"
   ]
  },
  {
   "cell_type": "code",
   "execution_count": null,
   "metadata": {},
   "outputs": [],
   "source": []
  }
 ],
 "metadata": {
  "kernelspec": {
   "display_name": "Python 3",
   "language": "python",
   "name": "python3"
  },
  "language_info": {
   "codemirror_mode": {
    "name": "ipython",
    "version": 3
   },
   "file_extension": ".py",
   "mimetype": "text/x-python",
   "name": "python",
   "nbconvert_exporter": "python",
   "pygments_lexer": "ipython3",
   "version": "3.6.4"
  }
 },
 "nbformat": 4,
 "nbformat_minor": 2
}
