{
 "cells": [
  {
   "cell_type": "code",
   "execution_count": 1,
   "metadata": {},
   "outputs": [],
   "source": [
    "import numpy as np"
   ]
  },
  {
   "cell_type": "code",
   "execution_count": 2,
   "metadata": {},
   "outputs": [
    {
     "name": "stdout",
     "output_type": "stream",
     "text": [
      "(100,)\n",
      "[1 1 1 1 1 0 1 1 1]\n"
     ]
    }
   ],
   "source": [
    "x1 = np.random.uniform(low=-1.0,high=1.0,size=100)\n",
    "x2 = np.random.uniform(low=-1.0,high=1.0,size=100)\n",
    "y = np.random.uniform(low=-1.0,high=1.0,size =100)\n",
    "y = 0.3*x1 +0.5*x2 +0.1\n",
    "y = (y>0.0).astype('int')\n",
    "\n",
    "print(y.shape)\n",
    "print(y[1:10])"
   ]
  },
  {
   "cell_type": "markdown",
   "metadata": {},
   "source": [
    "##Gradient Discent"
   ]
  },
  {
   "cell_type": "code",
   "execution_count": 3,
   "metadata": {},
   "outputs": [
    {
     "data": {
      "text/plain": [
       "[<matplotlib.lines.Line2D at 0x162612e15c0>]"
      ]
     },
     "execution_count": 3,
     "metadata": {},
     "output_type": "execute_result"
    },
    {
     "data": {
      "image/png": "[encoded data removed]",
      "text/plain": [
       "<matplotlib.figure.Figure at 0x1625fde6b70>"
      ]
     },
     "metadata": {},
     "output_type": "display_data"
    }
   ],
   "source": [
    "import pandas as pd\n",
    "%matplotlib inline\n",
    "import matplotlib.pyplot as plt\n",
    "def sigmoid(x):\n",
    "    return 1/(1+np.exp(-x))\n",
    "xx = np.linspace(start=-9.0,stop=9.0)\n",
    "yy = sigmoid(xx)\n",
    "\n",
    "plt.plot(xx,yy)"
   ]
  },
  {
   "cell_type": "code",
   "execution_count": 4,
   "metadata": {},
   "outputs": [],
   "source": [
    "## Gradient -> Class "
   ]
  },
  {
   "cell_type": "code",
   "execution_count": 5,
   "metadata": {},
   "outputs": [
    {
     "name": "stdout",
     "output_type": "stream",
     "text": [
      "w1= -0.7053598799229293 , w2= 0.32765484824563096 , accuracy= 0.41\n",
      "w1= 1.9603815984077377 , w2= 2.9933963265762964 , accuracy= 0.94\n",
      "w1= 2.108100293441902 , w2= 3.141115021610461 , accuracy= 0.93\n",
      "w1= 2.1249241191472246 , w2= 3.1579388473157834 , accuracy= 0.93\n",
      "w1= 2.126929325218344 , w2= 3.1599440533869028 , accuracy= 0.93\n",
      "w1= 2.127169565385734 , w2= 3.160184293554293 , accuracy= 0.93\n",
      "w1= 2.1271983659324407 , w2= 3.1602130941009996 , accuracy= 0.93\n",
      "w1= 2.1272018188643225 , w2= 3.1602165470328814 , accuracy= 0.93\n",
      "w1= 2.1272022328441182 , w2= 3.160216961012677 , accuracy= 0.93\n",
      "w1= 2.1272022824771435 , w2= 3.1602170106457024 , accuracy= 0.93\n"
     ]
    }
   ],
   "source": [
    "w1 = np.random.uniform(low=-1.0, high=1.0)\n",
    "w2= np.random.uniform(low=-1.0, high=1.0)\n",
    "b = np.random.uniform(low=-1.0,high=1.0)\n",
    "num = 1000\n",
    "learning_rate = 1.0\n",
    "\n",
    "\n",
    "for k in range(num):\n",
    "    y_pred = w1*x1 + w2*x2 + b\n",
    "    y_pred = sigmoid(y_pred)\n",
    "    \n",
    "    predict =  (y_pred > 0.5).astype('int')\n",
    "    accuracy = (predict==y).mean()\n",
    "    if (k %100 == 0 ) :\n",
    "        print(\"w1= {} , w2= {} , accuracy= {}\".format(w1,w2,accuracy))\n",
    "    if(accuracy > 0.95):\n",
    "        break\n",
    "    \n",
    "    w1 = w1-learning_rate*((y_pred - y)*x1).mean()\n",
    "    w2 = w2-learning_rate*((y_pred - y)*x1).mean()\n",
    "    b = b-learning_rate*((y_pred - y)).mean()\n",
    "    "
   ]
  },
  {
   "cell_type": "code",
   "execution_count": 6,
   "metadata": {},
   "outputs": [
    {
     "data": {
      "text/html": [
       "<div>\n",
       "<style scoped>\n",
       "    .dataframe tbody tr th:only-of-type {\n",
       "        vertical-align: middle;\n",
       "    }\n",
       "\n",
       "    .dataframe tbody tr th {\n",
       "        vertical-align: top;\n",
       "    }\n",
       "\n",
       "    .dataframe thead th {\n",
       "        text-align: right;\n",
       "    }\n",
       "</style>\n",
       "<table border=\"1\" class=\"dataframe\">\n",
       "  <thead>\n",
       "    <tr style=\"text-align: right;\">\n",
       "      <th></th>\n",
       "      <th>x1</th>\n",
       "      <th>x2</th>\n",
       "      <th>y</th>\n",
       "      <th>y_pred</th>\n",
       "    </tr>\n",
       "  </thead>\n",
       "  <tbody>\n",
       "    <tr>\n",
       "      <th>0</th>\n",
       "      <td>-0.454785</td>\n",
       "      <td>0.201607</td>\n",
       "      <td>1</td>\n",
       "      <td>1</td>\n",
       "    </tr>\n",
       "    <tr>\n",
       "      <th>1</th>\n",
       "      <td>0.077513</td>\n",
       "      <td>0.919013</td>\n",
       "      <td>1</td>\n",
       "      <td>1</td>\n",
       "    </tr>\n",
       "    <tr>\n",
       "      <th>2</th>\n",
       "      <td>0.819071</td>\n",
       "      <td>0.485174</td>\n",
       "      <td>1</td>\n",
       "      <td>1</td>\n",
       "    </tr>\n",
       "    <tr>\n",
       "      <th>3</th>\n",
       "      <td>0.916982</td>\n",
       "      <td>0.967111</td>\n",
       "      <td>1</td>\n",
       "      <td>1</td>\n",
       "    </tr>\n",
       "    <tr>\n",
       "      <th>4</th>\n",
       "      <td>-0.797224</td>\n",
       "      <td>0.956502</td>\n",
       "      <td>1</td>\n",
       "      <td>1</td>\n",
       "    </tr>\n",
       "    <tr>\n",
       "      <th>5</th>\n",
       "      <td>-0.171760</td>\n",
       "      <td>0.123183</td>\n",
       "      <td>1</td>\n",
       "      <td>1</td>\n",
       "    </tr>\n",
       "    <tr>\n",
       "      <th>6</th>\n",
       "      <td>-0.827233</td>\n",
       "      <td>-0.119019</td>\n",
       "      <td>0</td>\n",
       "      <td>0</td>\n",
       "    </tr>\n",
       "    <tr>\n",
       "      <th>7</th>\n",
       "      <td>-0.634102</td>\n",
       "      <td>0.408355</td>\n",
       "      <td>1</td>\n",
       "      <td>1</td>\n",
       "    </tr>\n",
       "    <tr>\n",
       "      <th>8</th>\n",
       "      <td>0.358717</td>\n",
       "      <td>-0.153111</td>\n",
       "      <td>1</td>\n",
       "      <td>1</td>\n",
       "    </tr>\n",
       "    <tr>\n",
       "      <th>9</th>\n",
       "      <td>-0.128425</td>\n",
       "      <td>0.139308</td>\n",
       "      <td>1</td>\n",
       "      <td>1</td>\n",
       "    </tr>\n",
       "  </tbody>\n",
       "</table>\n",
       "</div>"
      ],
      "text/plain": [
       "         x1        x2  y  y_pred\n",
       "0 -0.454785  0.201607  1       1\n",
       "1  0.077513  0.919013  1       1\n",
       "2  0.819071  0.485174  1       1\n",
       "3  0.916982  0.967111  1       1\n",
       "4 -0.797224  0.956502  1       1\n",
       "5 -0.171760  0.123183  1       1\n",
       "6 -0.827233 -0.119019  0       0\n",
       "7 -0.634102  0.408355  1       1\n",
       "8  0.358717 -0.153111  1       1\n",
       "9 -0.128425  0.139308  1       1"
      ]
     },
     "execution_count": 6,
     "metadata": {},
     "output_type": "execute_result"
    }
   ],
   "source": [
    "result = pd.DataFrame({'x1':x1, 'x2':x2,'y':y ,'y_pred':predict })\n",
    "result.head(10)\n"
   ]
  },
  {
   "cell_type": "markdown",
   "metadata": {},
   "source": [
    "## multi-class classfication"
   ]
  },
  {
   "cell_type": "code",
   "execution_count": 8,
   "metadata": {},
   "outputs": [
    {
     "data": {
      "text/plain": [
       "[<matplotlib.lines.Line2D at 0x16261a161d0>]"
      ]
     },
     "execution_count": 8,
     "metadata": {},
     "output_type": "execute_result"
    },
    {
     "data": {
      "image/png": "[encoded data removed]",
      "text/plain": [
       "<matplotlib.figure.Figure at 0x16261a16240>"
      ]
     },
     "metadata": {},
     "output_type": "display_data"
    }
   ],
   "source": [
    "xx = np.linspace(start=-1.0,stop=1.0)\n",
    "xx\n",
    "yy = -1.0*(w1*xx+b)/w2\n",
    "plt.scatter(x1,x2,c=y)\n",
    "plt.plot(xx,yy,c='r')"
   ]
  },
  {
   "cell_type": "code",
   "execution_count": null,
   "metadata": {},
   "outputs": [],
   "source": []
  },
  {
   "cell_type": "code",
   "execution_count": null,
   "metadata": {},
   "outputs": [],
   "source": []
  }
 ],
 "metadata": {
  "kernelspec": {
   "display_name": "Python 3",
   "language": "python",
   "name": "python3"
  },
  "language_info": {
   "codemirror_mode": {
    "name": "ipython",
    "version": 3
   },
   "file_extension": ".py",
   "mimetype": "text/x-python",
   "name": "python",
   "nbconvert_exporter": "python",
   "pygments_lexer": "ipython3",
   "version": "3.6.4"
  }
 },
 "nbformat": 4,
 "nbformat_minor": 2
}
