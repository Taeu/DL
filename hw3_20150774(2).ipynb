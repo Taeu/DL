{
 "cells": [
  {
   "cell_type": "code",
   "execution_count": 29,
   "metadata": {},
   "outputs": [],
   "source": [
    "%matplotlib inline\n",
    "import keras\n",
    "import numpy as np\n",
    "import pandas as pd\n",
    "import matplotlib.pyplot as plt"
   ]
  },
  {
   "cell_type": "code",
   "execution_count": 32,
   "metadata": {
    "scrolled": true
   },
   "outputs": [
    {
     "ename": "KeyboardInterrupt",
     "evalue": "",
     "output_type": "error",
     "traceback": [
      "\u001b[1;31m---------------------------------------------------------------------------\u001b[0m",
      "\u001b[1;31mKeyboardInterrupt\u001b[0m                         Traceback (most recent call last)",
      "\u001b[1;32m<ipython-input-32-ad2b90f7d3d2>\u001b[0m in \u001b[0;36m<module>\u001b[1;34m()\u001b[0m\n\u001b[0;32m      1\u001b[0m \u001b[1;31m# data load\u001b[0m\u001b[1;33m\u001b[0m\u001b[1;33m\u001b[0m\u001b[0m\n\u001b[1;32m----> 2\u001b[1;33m \u001b[0mtrain\u001b[0m \u001b[1;33m=\u001b[0m \u001b[0mpd\u001b[0m\u001b[1;33m.\u001b[0m\u001b[0mread_csv\u001b[0m\u001b[1;33m(\u001b[0m\u001b[1;34m\"train.csv\"\u001b[0m\u001b[1;33m)\u001b[0m\u001b[1;33m\u001b[0m\u001b[0m\n\u001b[0m\u001b[0;32m      3\u001b[0m \u001b[0mprint\u001b[0m\u001b[1;33m(\u001b[0m\u001b[0mtrain\u001b[0m\u001b[1;33m.\u001b[0m\u001b[0mshape\u001b[0m\u001b[1;33m)\u001b[0m\u001b[1;33m\u001b[0m\u001b[0m\n\u001b[0;32m      4\u001b[0m \u001b[0mtrain\u001b[0m\u001b[1;33m.\u001b[0m\u001b[0mhead\u001b[0m\u001b[1;33m(\u001b[0m\u001b[1;33m)\u001b[0m\u001b[1;33m\u001b[0m\u001b[0m\n\u001b[0;32m      5\u001b[0m \u001b[0mtest\u001b[0m \u001b[1;33m=\u001b[0m \u001b[0mpd\u001b[0m\u001b[1;33m.\u001b[0m\u001b[0mread_csv\u001b[0m\u001b[1;33m(\u001b[0m\u001b[1;34m\"test.csv\"\u001b[0m\u001b[1;33m)\u001b[0m\u001b[1;33m\u001b[0m\u001b[0m\n",
      "\u001b[1;32m~\\Anaconda3\\lib\\site-packages\\pandas\\io\\parsers.py\u001b[0m in \u001b[0;36mparser_f\u001b[1;34m(filepath_or_buffer, sep, delimiter, header, names, index_col, usecols, squeeze, prefix, mangle_dupe_cols, dtype, engine, converters, true_values, false_values, skipinitialspace, skiprows, nrows, na_values, keep_default_na, na_filter, verbose, skip_blank_lines, parse_dates, infer_datetime_format, keep_date_col, date_parser, dayfirst, iterator, chunksize, compression, thousands, decimal, lineterminator, quotechar, quoting, escapechar, comment, encoding, dialect, tupleize_cols, error_bad_lines, warn_bad_lines, skipfooter, skip_footer, doublequote, delim_whitespace, as_recarray, compact_ints, use_unsigned, low_memory, buffer_lines, memory_map, float_precision)\u001b[0m\n\u001b[0;32m    707\u001b[0m                     skip_blank_lines=skip_blank_lines)\n\u001b[0;32m    708\u001b[0m \u001b[1;33m\u001b[0m\u001b[0m\n\u001b[1;32m--> 709\u001b[1;33m         \u001b[1;32mreturn\u001b[0m \u001b[0m_read\u001b[0m\u001b[1;33m(\u001b[0m\u001b[0mfilepath_or_buffer\u001b[0m\u001b[1;33m,\u001b[0m \u001b[0mkwds\u001b[0m\u001b[1;33m)\u001b[0m\u001b[1;33m\u001b[0m\u001b[0m\n\u001b[0m\u001b[0;32m    710\u001b[0m \u001b[1;33m\u001b[0m\u001b[0m\n\u001b[0;32m    711\u001b[0m     \u001b[0mparser_f\u001b[0m\u001b[1;33m.\u001b[0m\u001b[0m__name__\u001b[0m \u001b[1;33m=\u001b[0m \u001b[0mname\u001b[0m\u001b[1;33m\u001b[0m\u001b[0m\n",
      "\u001b[1;32m~\\Anaconda3\\lib\\site-packages\\pandas\\io\\parsers.py\u001b[0m in \u001b[0;36m_read\u001b[1;34m(filepath_or_buffer, kwds)\u001b[0m\n\u001b[0;32m    453\u001b[0m \u001b[1;33m\u001b[0m\u001b[0m\n\u001b[0;32m    454\u001b[0m     \u001b[1;32mtry\u001b[0m\u001b[1;33m:\u001b[0m\u001b[1;33m\u001b[0m\u001b[0m\n\u001b[1;32m--> 455\u001b[1;33m         \u001b[0mdata\u001b[0m \u001b[1;33m=\u001b[0m \u001b[0mparser\u001b[0m\u001b[1;33m.\u001b[0m\u001b[0mread\u001b[0m\u001b[1;33m(\u001b[0m\u001b[0mnrows\u001b[0m\u001b[1;33m)\u001b[0m\u001b[1;33m\u001b[0m\u001b[0m\n\u001b[0m\u001b[0;32m    456\u001b[0m     \u001b[1;32mfinally\u001b[0m\u001b[1;33m:\u001b[0m\u001b[1;33m\u001b[0m\u001b[0m\n\u001b[0;32m    457\u001b[0m         \u001b[0mparser\u001b[0m\u001b[1;33m.\u001b[0m\u001b[0mclose\u001b[0m\u001b[1;33m(\u001b[0m\u001b[1;33m)\u001b[0m\u001b[1;33m\u001b[0m\u001b[0m\n",
      "\u001b[1;32m~\\Anaconda3\\lib\\site-packages\\pandas\\io\\parsers.py\u001b[0m in \u001b[0;36mread\u001b[1;34m(self, nrows)\u001b[0m\n\u001b[0;32m   1067\u001b[0m                 \u001b[1;32mraise\u001b[0m \u001b[0mValueError\u001b[0m\u001b[1;33m(\u001b[0m\u001b[1;34m'skipfooter not supported for iteration'\u001b[0m\u001b[1;33m)\u001b[0m\u001b[1;33m\u001b[0m\u001b[0m\n\u001b[0;32m   1068\u001b[0m \u001b[1;33m\u001b[0m\u001b[0m\n\u001b[1;32m-> 1069\u001b[1;33m         \u001b[0mret\u001b[0m \u001b[1;33m=\u001b[0m \u001b[0mself\u001b[0m\u001b[1;33m.\u001b[0m\u001b[0m_engine\u001b[0m\u001b[1;33m.\u001b[0m\u001b[0mread\u001b[0m\u001b[1;33m(\u001b[0m\u001b[0mnrows\u001b[0m\u001b[1;33m)\u001b[0m\u001b[1;33m\u001b[0m\u001b[0m\n\u001b[0m\u001b[0;32m   1070\u001b[0m \u001b[1;33m\u001b[0m\u001b[0m\n\u001b[0;32m   1071\u001b[0m         \u001b[1;32mif\u001b[0m \u001b[0mself\u001b[0m\u001b[1;33m.\u001b[0m\u001b[0moptions\u001b[0m\u001b[1;33m.\u001b[0m\u001b[0mget\u001b[0m\u001b[1;33m(\u001b[0m\u001b[1;34m'as_recarray'\u001b[0m\u001b[1;33m)\u001b[0m\u001b[1;33m:\u001b[0m\u001b[1;33m\u001b[0m\u001b[0m\n",
      "\u001b[1;32m~\\Anaconda3\\lib\\site-packages\\pandas\\io\\parsers.py\u001b[0m in \u001b[0;36mread\u001b[1;34m(self, nrows)\u001b[0m\n\u001b[0;32m   1837\u001b[0m     \u001b[1;32mdef\u001b[0m \u001b[0mread\u001b[0m\u001b[1;33m(\u001b[0m\u001b[0mself\u001b[0m\u001b[1;33m,\u001b[0m \u001b[0mnrows\u001b[0m\u001b[1;33m=\u001b[0m\u001b[1;32mNone\u001b[0m\u001b[1;33m)\u001b[0m\u001b[1;33m:\u001b[0m\u001b[1;33m\u001b[0m\u001b[0m\n\u001b[0;32m   1838\u001b[0m         \u001b[1;32mtry\u001b[0m\u001b[1;33m:\u001b[0m\u001b[1;33m\u001b[0m\u001b[0m\n\u001b[1;32m-> 1839\u001b[1;33m             \u001b[0mdata\u001b[0m \u001b[1;33m=\u001b[0m \u001b[0mself\u001b[0m\u001b[1;33m.\u001b[0m\u001b[0m_reader\u001b[0m\u001b[1;33m.\u001b[0m\u001b[0mread\u001b[0m\u001b[1;33m(\u001b[0m\u001b[0mnrows\u001b[0m\u001b[1;33m)\u001b[0m\u001b[1;33m\u001b[0m\u001b[0m\n\u001b[0m\u001b[0;32m   1840\u001b[0m         \u001b[1;32mexcept\u001b[0m \u001b[0mStopIteration\u001b[0m\u001b[1;33m:\u001b[0m\u001b[1;33m\u001b[0m\u001b[0m\n\u001b[0;32m   1841\u001b[0m             \u001b[1;32mif\u001b[0m \u001b[0mself\u001b[0m\u001b[1;33m.\u001b[0m\u001b[0m_first_chunk\u001b[0m\u001b[1;33m:\u001b[0m\u001b[1;33m\u001b[0m\u001b[0m\n",
      "\u001b[1;32mpandas/_libs/parsers.pyx\u001b[0m in \u001b[0;36mpandas._libs.parsers.TextReader.read\u001b[1;34m()\u001b[0m\n",
      "\u001b[1;32mpandas/_libs/parsers.pyx\u001b[0m in \u001b[0;36mpandas._libs.parsers.TextReader._read_low_memory\u001b[1;34m()\u001b[0m\n",
      "\u001b[1;32mpandas/_libs/parsers.pyx\u001b[0m in \u001b[0;36mpandas._libs.parsers.TextReader._read_rows\u001b[1;34m()\u001b[0m\n",
      "\u001b[1;32mpandas/_libs/parsers.pyx\u001b[0m in \u001b[0;36mpandas._libs.parsers.TextReader._convert_column_data\u001b[1;34m()\u001b[0m\n",
      "\u001b[1;32mpandas/_libs/parsers.pyx\u001b[0m in \u001b[0;36mpandas._libs.parsers.TextReader._convert_tokens\u001b[1;34m()\u001b[0m\n",
      "\u001b[1;32mpandas/_libs/parsers.pyx\u001b[0m in \u001b[0;36mpandas._libs.parsers.TextReader._convert_with_dtype\u001b[1;34m()\u001b[0m\n",
      "\u001b[1;32m~\\Anaconda3\\lib\\site-packages\\pandas\\core\\dtypes\\common.py\u001b[0m in \u001b[0;36mis_integer_dtype\u001b[1;34m(arr_or_dtype)\u001b[0m\n\u001b[0;32m    775\u001b[0m \u001b[1;33m\u001b[0m\u001b[0m\n\u001b[0;32m    776\u001b[0m \u001b[1;33m\u001b[0m\u001b[0m\n\u001b[1;32m--> 777\u001b[1;33m \u001b[1;32mdef\u001b[0m \u001b[0mis_integer_dtype\u001b[0m\u001b[1;33m(\u001b[0m\u001b[0marr_or_dtype\u001b[0m\u001b[1;33m)\u001b[0m\u001b[1;33m:\u001b[0m\u001b[1;33m\u001b[0m\u001b[0m\n\u001b[0m\u001b[0;32m    778\u001b[0m     \"\"\"\n\u001b[0;32m    779\u001b[0m     \u001b[0mCheck\u001b[0m \u001b[0mwhether\u001b[0m \u001b[0mthe\u001b[0m \u001b[0mprovided\u001b[0m \u001b[0marray\u001b[0m \u001b[1;32mor\u001b[0m \u001b[0mdtype\u001b[0m \u001b[1;32mis\u001b[0m \u001b[0mof\u001b[0m \u001b[0man\u001b[0m \u001b[0minteger\u001b[0m \u001b[0mdtype\u001b[0m\u001b[1;33m.\u001b[0m\u001b[1;33m\u001b[0m\u001b[0m\n",
      "\u001b[1;31mKeyboardInterrupt\u001b[0m: "
     ]
    }
   ],
   "source": [
    "# data load\n",
    "train = pd.read_csv(\"train.csv\")\n",
    "print(train.shape)\n",
    "train.head()\n",
    "test = pd.read_csv(\"test.csv\")\n",
    "print(test.shape)\n",
    "test.head()\n",
    "\n",
    "\n"
   ]
  },
  {
   "cell_type": "code",
   "execution_count": 51,
   "metadata": {},
   "outputs": [],
   "source": [
    "y_train = train[\"label\"].values\n",
    "x_train = train.drop(\"label\",axis=1)\n",
    "x_train = x_train.values\n",
    "xx_train = x_train[0:40000]\n",
    "xx_test = x_train[40000:]\n",
    "yy_train = y_train[0:40000]\n",
    "yy_test = y_train[40000:]"
   ]
  },
  {
   "cell_type": "code",
   "execution_count": 55,
   "metadata": {},
   "outputs": [],
   "source": [
    "xx_train.shape\n",
    "xx_train = xx_train.reshape(40000,28,28)\n",
    "\n",
    "xx_test = xx_test.reshape(2000,28,28)\n"
   ]
  },
  {
   "cell_type": "code",
   "execution_count": 58,
   "metadata": {},
   "outputs": [
    {
     "name": "stdout",
     "output_type": "stream",
     "text": [
      "[2 3 9 7 8 3 4 1 0 9]\n"
     ]
    },
    {
     "data": {
      "text/plain": [
       "<matplotlib.image.AxesImage at 0x24d00878eb8>"
      ]
     },
     "execution_count": 58,
     "metadata": {},
     "output_type": "execute_result"
    },
    {
     "data": {
      "text/plain": [
       "<matplotlib.figure.Figure at 0x24d0217b390>"
      ]
     },
     "metadata": {},
     "output_type": "display_data"
    },
    {
     "data": {
      "image/png": "[encoded data removed]",
      "text/plain": [
       "<matplotlib.figure.Figure at 0x24d02163ef0>"
      ]
     },
     "metadata": {},
     "output_type": "display_data"
    }
   ],
   "source": [
    "\n",
    "plt.gray()\n",
    "\n",
    "print(yy_test[0:10])\n",
    "\n",
    "figures, axes = plt.subplots(nrows=2, ncols=5)\n",
    "figures.set_size_inches(18, 8)\n",
    "\n",
    "axes[0][0].matshow(xx_test[0])\n",
    "axes[0][1].matshow(xx_test[1])\n",
    "axes[0][2].matshow(xx_test[2])\n",
    "axes[0][3].matshow(xx_test[3])\n",
    "axes[0][4].matshow(xx_test[4])\n",
    "axes[1][0].matshow(xx_test[5])\n",
    "axes[1][1].matshow(xx_test[6])\n",
    "axes[1][2].matshow(xx_test[7])\n",
    "axes[1][3].matshow(xx_test[8])\n",
    "axes[1][4].matshow(xx_test[9])"
   ]
  },
  {
   "cell_type": "code",
   "execution_count": 59,
   "metadata": {},
   "outputs": [],
   "source": [
    "xx_train = xx_train.reshape(40000,28*28)\n",
    "\n",
    "xx_test = xx_test.reshape(2000,28*28)\n"
   ]
  },
  {
   "cell_type": "code",
   "execution_count": 60,
   "metadata": {},
   "outputs": [
    {
     "name": "stdout",
     "output_type": "stream",
     "text": [
      "x_train, test =  (40000, 784) (2000, 784)\n",
      "y_train, test =  (40000,) (2000,)\n"
     ]
    }
   ],
   "source": [
    "print('x_train, test = ',xx_train.shape,xx_test.shape)\n",
    "print('y_train, test = ',yy_train.shape,yy_test.shape)"
   ]
  },
  {
   "cell_type": "code",
   "execution_count": 61,
   "metadata": {
    "scrolled": true
   },
   "outputs": [
    {
     "name": "stdout",
     "output_type": "stream",
     "text": [
      "(40000, 10) (2000, 10)\n"
     ]
    }
   ],
   "source": [
    "from keras.utils import to_categorical\n",
    "y_train_hot  = to_categorical(yy_train)\n",
    "y_test_hot = to_categorical(yy_test)\n",
    "print(y_train_hot.shape,y_test_hot.shape)"
   ]
  },
  {
   "cell_type": "code",
   "execution_count": 64,
   "metadata": {
    "scrolled": true
   },
   "outputs": [
    {
     "data": {
      "text/plain": [
       "array([[0., 0., 1., 0., 0., 0., 0., 0., 0., 0.],\n",
       "       [0., 0., 0., 1., 0., 0., 0., 0., 0., 0.],\n",
       "       [0., 0., 0., 0., 0., 0., 0., 0., 0., 1.],\n",
       "       [0., 0., 0., 0., 0., 0., 0., 1., 0., 0.],\n",
       "       [0., 0., 0., 0., 0., 0., 0., 0., 1., 0.],\n",
       "       [0., 0., 0., 1., 0., 0., 0., 0., 0., 0.],\n",
       "       [0., 0., 0., 0., 1., 0., 0., 0., 0., 0.],\n",
       "       [0., 1., 0., 0., 0., 0., 0., 0., 0., 0.],\n",
       "       [1., 0., 0., 0., 0., 0., 0., 0., 0., 0.],\n",
       "       [0., 0., 0., 0., 0., 0., 0., 0., 0., 1.]], dtype=float32)"
      ]
     },
     "execution_count": 64,
     "metadata": {},
     "output_type": "execute_result"
    }
   ],
   "source": [
    "yy_train[0:10]\n",
    "y_test_hot[0:10]"
   ]
  },
  {
   "cell_type": "code",
   "execution_count": 66,
   "metadata": {
    "scrolled": true
   },
   "outputs": [
    {
     "name": "stdout",
     "output_type": "stream",
     "text": [
      "Train on 40000 samples, validate on 2000 samples\n",
      "Epoch 1/20\n",
      "40000/40000 [==============================] - 6s 151us/step - loss: 2.3024 - acc: 0.1870 - val_loss: 2.3021 - val_acc: 0.1910\n",
      "Epoch 2/20\n",
      "40000/40000 [==============================] - 6s 138us/step - loss: 2.2948 - acc: 0.1773 - val_loss: 2.2695 - val_acc: 0.1570\n",
      "Epoch 3/20\n",
      "40000/40000 [==============================] - 6s 140us/step - loss: 1.9815 - acc: 0.1329 - val_loss: 1.3943 - val_acc: 0.1120\n",
      "Epoch 4/20\n",
      "40000/40000 [==============================] - 6s 142us/step - loss: 1.0611 - acc: 0.1118 - val_loss: 1.0428 - val_acc: 0.1135\n",
      "Epoch 5/20\n",
      "40000/40000 [==============================] - 6s 144us/step - loss: 1.0063 - acc: 0.1133 - val_loss: 1.0281 - val_acc: 0.1140\n",
      "Epoch 6/20\n",
      "40000/40000 [==============================] - 6s 139us/step - loss: 0.9909 - acc: 0.1156 - val_loss: 1.0161 - val_acc: 0.1190\n",
      "Epoch 7/20\n",
      "40000/40000 [==============================] - 6s 138us/step - loss: 0.9820 - acc: 0.1190 - val_loss: 1.0136 - val_acc: 0.1195\n",
      "Epoch 8/20\n",
      "40000/40000 [==============================] - 7s 170us/step - loss: 0.9747 - acc: 0.1223 - val_loss: 1.0061 - val_acc: 0.1210\n",
      "Epoch 9/20\n",
      "40000/40000 [==============================] - 6s 153us/step - loss: 0.9687 - acc: 0.1265 - val_loss: 1.0132 - val_acc: 0.1235\n",
      "Epoch 10/20\n",
      "40000/40000 [==============================] - 6s 144us/step - loss: 0.9665 - acc: 0.1316 - val_loss: 1.0070 - val_acc: 0.1325\n",
      "Epoch 11/20\n",
      "40000/40000 [==============================] - 6s 140us/step - loss: 0.9627 - acc: 0.1367 - val_loss: 0.9937 - val_acc: 0.1385\n",
      "Epoch 12/20\n",
      "40000/40000 [==============================] - 6s 152us/step - loss: 0.9587 - acc: 0.1430 - val_loss: 1.0014 - val_acc: 0.1405\n",
      "Epoch 13/20\n",
      "40000/40000 [==============================] - 6s 154us/step - loss: 0.9557 - acc: 0.1559 - val_loss: 1.0148 - val_acc: 0.1670\n",
      "Epoch 14/20\n",
      "40000/40000 [==============================] - 6s 151us/step - loss: 0.9548 - acc: 0.1646 - val_loss: 1.0033 - val_acc: 0.1640\n",
      "Epoch 15/20\n",
      "40000/40000 [==============================] - 6s 142us/step - loss: 0.9519 - acc: 0.1943 - val_loss: 0.9955 - val_acc: 0.2240\n",
      "Epoch 16/20\n",
      "40000/40000 [==============================] - 8s 190us/step - loss: 0.6303 - acc: 0.6168 - val_loss: 0.4135 - val_acc: 0.8975\n",
      "Epoch 17/20\n",
      "40000/40000 [==============================] - 6s 145us/step - loss: 0.3252 - acc: 0.9078 - val_loss: 0.3933 - val_acc: 0.9015\n",
      "Epoch 18/20\n",
      "40000/40000 [==============================] - 5s 137us/step - loss: 0.3048 - acc: 0.9131 - val_loss: 0.4075 - val_acc: 0.8975\n",
      "Epoch 19/20\n",
      "40000/40000 [==============================] - 6s 139us/step - loss: 0.2994 - acc: 0.9139 - val_loss: 0.4089 - val_acc: 0.8980\n",
      "Epoch 20/20\n",
      "40000/40000 [==============================] - 6s 146us/step - loss: 0.2928 - acc: 0.9176 - val_loss: 0.4002 - val_acc: 0.9020\n"
     ]
    },
    {
     "data": {
      "text/plain": [
       "<keras.callbacks.History at 0x24d010d6828>"
      ]
     },
     "execution_count": 66,
     "metadata": {},
     "output_type": "execute_result"
    }
   ],
   "source": [
    "from keras.models import Sequential\n",
    "from keras.layers import Dense, Activation\n",
    "from keras.initializers import RandomUniform\n",
    "from keras.optimizers import SGD\n",
    "\n",
    "model = Sequential()\n",
    "model.add(Dense(units=10,\n",
    "                kernel_initializer=RandomUniform(minval=0.0, maxval=0.001),\n",
    "                input_shape=(28 * 28,)))\n",
    "model.add(Activation('sigmoid'))\n",
    "\n",
    "optimizers = SGD(lr=0.00001)\n",
    "model.compile(optimizer=optimizers,\n",
    "              loss='categorical_crossentropy',\n",
    "              metrics=['accuracy'])\n",
    "model.fit(xx_train,\n",
    "          y_train_hot,\n",
    "          epochs=20,\n",
    "          validation_data=(xx_test, y_test_hot))"
   ]
  },
  {
   "cell_type": "code",
   "execution_count": null,
   "metadata": {},
   "outputs": [],
   "source": []
  },
  {
   "cell_type": "code",
   "execution_count": null,
   "metadata": {},
   "outputs": [],
   "source": []
  },
  {
   "cell_type": "code",
   "execution_count": null,
   "metadata": {},
   "outputs": [],
   "source": []
  },
  {
   "cell_type": "markdown",
   "metadata": {},
   "source": [
    "## new"
   ]
  },
  {
   "cell_type": "code",
   "execution_count": 69,
   "metadata": {},
   "outputs": [
    {
     "name": "stdout",
     "output_type": "stream",
     "text": [
      "(40000, 28, 28, 1) (2000, 28, 28, 1)\n"
     ]
    }
   ],
   "source": [
    "xx_train = xx_train.reshape(40000, 28, 28, 1)\n",
    "xx_test = xx_test.reshape(2000, 28, 28, 1)\n",
    "\n",
    "print(xx_train.shape, xx_test.shape)"
   ]
  },
  {
   "cell_type": "code",
   "execution_count": 74,
   "metadata": {},
   "outputs": [],
   "source": [
    "from keras.models import Sequential\n",
    "from keras.layers import Conv2D, MaxPooling2D, Flatten, Dense\n",
    "\n",
    "model = Sequential()\n",
    "\n",
    "model.add(Conv2D(filters=6,\n",
    "                 kernel_initializer='random_uniform',\n",
    "                 activation='sigmoid',\n",
    "                 kernel_size=(5, 5),\n",
    "                 input_shape=(28, 28, 1)))\n",
    "model.add(MaxPooling2D(pool_size=(2, 2),\n",
    "                       strides=(2, 2)))\n",
    "\n",
    "model.add(Conv2D(filters=12,\n",
    "                 kernel_initializer='random_uniform',\n",
    "                 activation='sigmoid',\n",
    "                 kernel_size=(5, 5)))\n",
    "model.add(MaxPooling2D(pool_size=(2, 2),\n",
    "                       strides=(2, 2)))\n",
    "\n",
    "model.add(Flatten())\n",
    "\n",
    "model.add(Dense(units=128,\n",
    "                kernel_initializer='random_uniform',\n",
    "                activation='sigmoid'))\n",
    "model.add(Dense(units=10,\n",
    "                kernel_initializer='random_uniform',\n",
    "                activation='sigmoid'))\n",
    "\n",
    "from keras.optimizers import SGD\n",
    "\n",
    "optimizer = SGD(lr=0.1)\n",
    "\n",
    "model.compile(optimizer=optimizer,\n",
    "              loss='categorical_crossentropy',\n",
    "              metrics=['accuracy'])"
   ]
  },
  {
   "cell_type": "code",
   "execution_count": 75,
   "metadata": {},
   "outputs": [
    {
     "name": "stdout",
     "output_type": "stream",
     "text": [
      "Train on 40000 samples, validate on 2000 samples\n",
      "Epoch 1/100\n",
      "40000/40000 [==============================] - 48s 1ms/step - loss: 2.3040 - acc: 0.1067 - val_loss: 2.3000 - val_acc: 0.1125\n",
      "Epoch 2/100\n",
      "40000/40000 [==============================] - 47s 1ms/step - loss: 2.3011 - acc: 0.1116 - val_loss: 2.2984 - val_acc: 0.1125\n",
      "Epoch 3/100\n",
      "40000/40000 [==============================] - 49s 1ms/step - loss: 2.2949 - acc: 0.1195 - val_loss: 2.2635 - val_acc: 0.2525\n",
      "Epoch 4/100\n",
      "40000/40000 [==============================] - 48s 1ms/step - loss: 1.0066 - acc: 0.7124 - val_loss: 0.4320 - val_acc: 0.8850\n",
      "Epoch 5/100\n",
      "40000/40000 [==============================] - 48s 1ms/step - loss: 0.2883 - acc: 0.9173 - val_loss: 0.2550 - val_acc: 0.9235\n",
      "Epoch 6/100\n",
      "40000/40000 [==============================] - 47s 1ms/step - loss: 0.2050 - acc: 0.9387 - val_loss: 0.1987 - val_acc: 0.9390\n",
      "Epoch 7/100\n",
      "40000/40000 [==============================] - 48s 1ms/step - loss: 0.1636 - acc: 0.9511 - val_loss: 0.1708 - val_acc: 0.9490\n",
      "Epoch 8/100\n",
      "40000/40000 [==============================] - 48s 1ms/step - loss: 0.1391 - acc: 0.9576 - val_loss: 0.1504 - val_acc: 0.9530\n",
      "Epoch 9/100\n",
      "40000/40000 [==============================] - 47s 1ms/step - loss: 0.1198 - acc: 0.9634 - val_loss: 0.1344 - val_acc: 0.9585\n",
      "Epoch 10/100\n",
      "40000/40000 [==============================] - 49s 1ms/step - loss: 0.1084 - acc: 0.9670 - val_loss: 0.1183 - val_acc: 0.9605\n",
      "Epoch 11/100\n",
      "40000/40000 [==============================] - 47s 1ms/step - loss: 0.1017 - acc: 0.9688 - val_loss: 0.1088 - val_acc: 0.9660\n",
      "Epoch 12/100\n",
      "40000/40000 [==============================] - 49s 1ms/step - loss: 0.0926 - acc: 0.9713 - val_loss: 0.1171 - val_acc: 0.9660\n",
      "Epoch 13/100\n",
      "40000/40000 [==============================] - 47s 1ms/step - loss: 0.0872 - acc: 0.9734 - val_loss: 0.1042 - val_acc: 0.9665\n",
      "Epoch 14/100\n",
      "40000/40000 [==============================] - 50s 1ms/step - loss: 0.0842 - acc: 0.9742 - val_loss: 0.0988 - val_acc: 0.9690\n",
      "Epoch 15/100\n",
      "40000/40000 [==============================] - 48s 1ms/step - loss: 0.0796 - acc: 0.9753 - val_loss: 0.0969 - val_acc: 0.9650\n",
      "Epoch 16/100\n",
      "40000/40000 [==============================] - 49s 1ms/step - loss: 0.0756 - acc: 0.9769 - val_loss: 0.0911 - val_acc: 0.9690\n",
      "Epoch 17/100\n",
      "40000/40000 [==============================] - 48s 1ms/step - loss: 0.0709 - acc: 0.9778 - val_loss: 0.0822 - val_acc: 0.9725\n",
      "Epoch 18/100\n",
      "40000/40000 [==============================] - 51s 1ms/step - loss: 0.0682 - acc: 0.9788 - val_loss: 0.0767 - val_acc: 0.9755\n",
      "Epoch 19/100\n",
      "40000/40000 [==============================] - 50s 1ms/step - loss: 0.0676 - acc: 0.9794 - val_loss: 0.0722 - val_acc: 0.9770\n",
      "Epoch 20/100\n",
      "40000/40000 [==============================] - 51s 1ms/step - loss: 0.0690 - acc: 0.9788 - val_loss: 0.0786 - val_acc: 0.9765\n",
      "Epoch 21/100\n",
      "40000/40000 [==============================] - 52s 1ms/step - loss: 0.0665 - acc: 0.9788 - val_loss: 0.0708 - val_acc: 0.9755\n",
      "Epoch 22/100\n",
      "40000/40000 [==============================] - 52s 1ms/step - loss: 0.0614 - acc: 0.9806 - val_loss: 0.0737 - val_acc: 0.9790\n",
      "Epoch 23/100\n",
      "40000/40000 [==============================] - 52s 1ms/step - loss: 0.0625 - acc: 0.9804 - val_loss: 0.0751 - val_acc: 0.9780\n",
      "Epoch 24/100\n",
      "40000/40000 [==============================] - 53s 1ms/step - loss: 0.0632 - acc: 0.9807 - val_loss: 0.0698 - val_acc: 0.9790\n",
      "Epoch 25/100\n",
      "40000/40000 [==============================] - 52s 1ms/step - loss: 0.0561 - acc: 0.9823 - val_loss: 0.0630 - val_acc: 0.9780\n",
      "Epoch 26/100\n",
      "40000/40000 [==============================] - 54s 1ms/step - loss: 0.0558 - acc: 0.9826 - val_loss: 0.0619 - val_acc: 0.9790\n",
      "Epoch 27/100\n",
      "40000/40000 [==============================] - 61s 2ms/step - loss: 0.0544 - acc: 0.9834 - val_loss: 0.0711 - val_acc: 0.9755\n",
      "Epoch 28/100\n",
      "40000/40000 [==============================] - 63s 2ms/step - loss: 0.0513 - acc: 0.9847 - val_loss: 0.0598 - val_acc: 0.9805\n",
      "Epoch 29/100\n",
      "40000/40000 [==============================] - 53s 1ms/step - loss: 0.0526 - acc: 0.9832 - val_loss: 0.0657 - val_acc: 0.9790\n",
      "Epoch 30/100\n",
      "40000/40000 [==============================] - 51s 1ms/step - loss: 0.0540 - acc: 0.9826 - val_loss: 0.0674 - val_acc: 0.9760\n",
      "Epoch 31/100\n",
      "40000/40000 [==============================] - 50s 1ms/step - loss: 0.0533 - acc: 0.9839 - val_loss: 0.0591 - val_acc: 0.9810\n",
      "Epoch 32/100\n",
      "40000/40000 [==============================] - 54s 1ms/step - loss: 0.0491 - acc: 0.9846 - val_loss: 0.0609 - val_acc: 0.9790\n",
      "Epoch 33/100\n",
      "40000/40000 [==============================] - 57s 1ms/step - loss: 0.0476 - acc: 0.9853 - val_loss: 0.0557 - val_acc: 0.9800\n",
      "Epoch 34/100\n",
      "40000/40000 [==============================] - 57s 1ms/step - loss: 0.0453 - acc: 0.9860 - val_loss: 0.0587 - val_acc: 0.9830\n",
      "Epoch 35/100\n",
      "40000/40000 [==============================] - 56s 1ms/step - loss: 0.0427 - acc: 0.9869 - val_loss: 0.0565 - val_acc: 0.9820\n",
      "Epoch 36/100\n",
      "40000/40000 [==============================] - 57s 1ms/step - loss: 0.0432 - acc: 0.9861 - val_loss: 0.0589 - val_acc: 0.9765\n",
      "Epoch 37/100\n",
      "40000/40000 [==============================] - 52s 1ms/step - loss: 0.0417 - acc: 0.9871 - val_loss: 0.0577 - val_acc: 0.9810\n",
      "Epoch 38/100\n",
      "40000/40000 [==============================] - 58s 1ms/step - loss: 0.0400 - acc: 0.9870 - val_loss: 0.0531 - val_acc: 0.9830\n",
      "Epoch 39/100\n",
      "40000/40000 [==============================] - 51s 1ms/step - loss: 0.0423 - acc: 0.9863 - val_loss: 0.0575 - val_acc: 0.9805\n",
      "Epoch 40/100\n",
      "40000/40000 [==============================] - 55s 1ms/step - loss: 0.0415 - acc: 0.9869 - val_loss: 0.0515 - val_acc: 0.9800\n",
      "Epoch 41/100\n",
      "40000/40000 [==============================] - 55s 1ms/step - loss: 0.0393 - acc: 0.9876 - val_loss: 0.0508 - val_acc: 0.9795\n",
      "Epoch 42/100\n",
      "40000/40000 [==============================] - 65s 2ms/step - loss: 0.0383 - acc: 0.9877 - val_loss: 0.0485 - val_acc: 0.9840\n",
      "Epoch 43/100\n",
      "40000/40000 [==============================] - 63s 2ms/step - loss: 0.0356 - acc: 0.9892 - val_loss: 0.0505 - val_acc: 0.9835\n",
      "Epoch 44/100\n",
      "40000/40000 [==============================] - 43s 1ms/step - loss: 0.0362 - acc: 0.9888 - val_loss: 0.0466 - val_acc: 0.9840\n",
      "Epoch 45/100\n",
      "40000/40000 [==============================] - 42s 1ms/step - loss: 0.0362 - acc: 0.9887 - val_loss: 0.0493 - val_acc: 0.9825\n",
      "Epoch 46/100\n",
      "40000/40000 [==============================] - 52s 1ms/step - loss: 0.0389 - acc: 0.9877 - val_loss: 0.0505 - val_acc: 0.9840\n",
      "Epoch 47/100\n",
      "40000/40000 [==============================] - 54s 1ms/step - loss: 0.0359 - acc: 0.9886 - val_loss: 0.0478 - val_acc: 0.9840\n",
      "Epoch 48/100\n",
      "40000/40000 [==============================] - 51s 1ms/step - loss: 0.0352 - acc: 0.9889 - val_loss: 0.0504 - val_acc: 0.9860\n",
      "Epoch 49/100\n",
      "40000/40000 [==============================] - 51s 1ms/step - loss: 0.0334 - acc: 0.9892 - val_loss: 0.0471 - val_acc: 0.9820\n",
      "Epoch 50/100\n",
      "40000/40000 [==============================] - 50s 1ms/step - loss: 0.0338 - acc: 0.9893 - val_loss: 0.0546 - val_acc: 0.9805\n",
      "Epoch 51/100\n",
      "40000/40000 [==============================] - 49s 1ms/step - loss: 0.0335 - acc: 0.9890 - val_loss: 0.0569 - val_acc: 0.9815\n",
      "Epoch 52/100\n",
      "40000/40000 [==============================] - 49s 1ms/step - loss: 0.0316 - acc: 0.9899 - val_loss: 0.0572 - val_acc: 0.9820\n",
      "Epoch 53/100\n",
      "40000/40000 [==============================] - 52s 1ms/step - loss: 0.0315 - acc: 0.9903 - val_loss: 0.0548 - val_acc: 0.9835\n",
      "Epoch 54/100\n",
      "40000/40000 [==============================] - 51s 1ms/step - loss: 0.0305 - acc: 0.9904 - val_loss: 0.0514 - val_acc: 0.9845\n",
      "Epoch 55/100\n",
      "40000/40000 [==============================] - 49s 1ms/step - loss: 0.0315 - acc: 0.9901 - val_loss: 0.0524 - val_acc: 0.9840\n",
      "Epoch 56/100\n",
      "40000/40000 [==============================] - 50s 1ms/step - loss: 0.0311 - acc: 0.9902 - val_loss: 0.0509 - val_acc: 0.9815\n",
      "Epoch 57/100\n",
      "40000/40000 [==============================] - 50s 1ms/step - loss: 0.0319 - acc: 0.9901 - val_loss: 0.0520 - val_acc: 0.9830\n",
      "Epoch 58/100\n",
      "40000/40000 [==============================] - 53s 1ms/step - loss: 0.0323 - acc: 0.9898 - val_loss: 0.0437 - val_acc: 0.9845\n",
      "Epoch 59/100\n"
     ]
    },
    {
     "name": "stdout",
     "output_type": "stream",
     "text": [
      "40000/40000 [==============================] - 45s 1ms/step - loss: 0.0314 - acc: 0.9903 - val_loss: 0.0465 - val_acc: 0.9830\n",
      "Epoch 60/100\n",
      "40000/40000 [==============================] - 44s 1ms/step - loss: 0.0306 - acc: 0.9904 - val_loss: 0.0462 - val_acc: 0.9840\n",
      "Epoch 61/100\n",
      "40000/40000 [==============================] - 52s 1ms/step - loss: 0.0318 - acc: 0.9903 - val_loss: 0.0475 - val_acc: 0.9835\n",
      "Epoch 62/100\n",
      "40000/40000 [==============================] - 50s 1ms/step - loss: 0.0294 - acc: 0.9906 - val_loss: 0.0488 - val_acc: 0.9820\n",
      "Epoch 63/100\n",
      "40000/40000 [==============================] - 50s 1ms/step - loss: 0.0298 - acc: 0.9902 - val_loss: 0.0522 - val_acc: 0.9790\n",
      "Epoch 64/100\n",
      "40000/40000 [==============================] - 45s 1ms/step - loss: 0.0318 - acc: 0.9898 - val_loss: 0.0507 - val_acc: 0.9820\n",
      "Epoch 65/100\n",
      "40000/40000 [==============================] - 47s 1ms/step - loss: 0.0320 - acc: 0.9896 - val_loss: 0.0478 - val_acc: 0.9825\n",
      "Epoch 66/100\n",
      "40000/40000 [==============================] - 52s 1ms/step - loss: 0.0279 - acc: 0.9911 - val_loss: 0.0486 - val_acc: 0.9850\n",
      "Epoch 67/100\n",
      "40000/40000 [==============================] - 52s 1ms/step - loss: 0.0273 - acc: 0.9912 - val_loss: 0.0505 - val_acc: 0.9810\n",
      "Epoch 68/100\n",
      "40000/40000 [==============================] - 56s 1ms/step - loss: 0.0307 - acc: 0.9906 - val_loss: 0.0473 - val_acc: 0.9845\n",
      "Epoch 69/100\n",
      "40000/40000 [==============================] - 51s 1ms/step - loss: 0.0294 - acc: 0.9911 - val_loss: 0.0527 - val_acc: 0.9820\n",
      "Epoch 70/100\n",
      "40000/40000 [==============================] - 47s 1ms/step - loss: 0.0281 - acc: 0.9913 - val_loss: 0.0546 - val_acc: 0.9835\n",
      "Epoch 71/100\n",
      "40000/40000 [==============================] - 52s 1ms/step - loss: 0.0278 - acc: 0.9915 - val_loss: 0.0455 - val_acc: 0.9845\n",
      "Epoch 72/100\n",
      "40000/40000 [==============================] - 51s 1ms/step - loss: 0.0253 - acc: 0.9923 - val_loss: 0.0524 - val_acc: 0.9810\n",
      "Epoch 73/100\n",
      "40000/40000 [==============================] - 51s 1ms/step - loss: 0.0256 - acc: 0.9924 - val_loss: 0.0466 - val_acc: 0.9845\n",
      "Epoch 74/100\n",
      "40000/40000 [==============================] - 52s 1ms/step - loss: 0.0241 - acc: 0.9927 - val_loss: 0.0525 - val_acc: 0.9815\n",
      "Epoch 75/100\n",
      "40000/40000 [==============================] - 54s 1ms/step - loss: 0.0257 - acc: 0.9918 - val_loss: 0.0504 - val_acc: 0.9815\n",
      "Epoch 76/100\n",
      "40000/40000 [==============================] - 48s 1ms/step - loss: 0.0248 - acc: 0.9920 - val_loss: 0.0454 - val_acc: 0.9840\n",
      "Epoch 77/100\n",
      "40000/40000 [==============================] - 48s 1ms/step - loss: 0.0234 - acc: 0.9928 - val_loss: 0.0510 - val_acc: 0.9805\n",
      "Epoch 78/100\n",
      "40000/40000 [==============================] - 53s 1ms/step - loss: 0.0227 - acc: 0.9931 - val_loss: 0.0527 - val_acc: 0.9805\n",
      "Epoch 79/100\n",
      "40000/40000 [==============================] - 51s 1ms/step - loss: 0.0238 - acc: 0.9925 - val_loss: 0.0530 - val_acc: 0.9825\n",
      "Epoch 80/100\n",
      "40000/40000 [==============================] - 53s 1ms/step - loss: 0.0229 - acc: 0.9930 - val_loss: 0.0446 - val_acc: 0.9840\n",
      "Epoch 81/100\n",
      "40000/40000 [==============================] - 52s 1ms/step - loss: 0.0219 - acc: 0.9934 - val_loss: 0.0507 - val_acc: 0.9815\n",
      "Epoch 82/100\n",
      "40000/40000 [==============================] - 53s 1ms/step - loss: 0.0216 - acc: 0.9936 - val_loss: 0.0422 - val_acc: 0.9845\n",
      "Epoch 83/100\n",
      "40000/40000 [==============================] - 48s 1ms/step - loss: 0.0210 - acc: 0.9939 - val_loss: 0.0478 - val_acc: 0.9845\n",
      "Epoch 84/100\n",
      "40000/40000 [==============================] - 49s 1ms/step - loss: 0.0208 - acc: 0.9940 - val_loss: 0.0427 - val_acc: 0.9840\n",
      "Epoch 85/100\n",
      "40000/40000 [==============================] - 51s 1ms/step - loss: 0.0206 - acc: 0.9943 - val_loss: 0.0462 - val_acc: 0.9845\n",
      "Epoch 86/100\n",
      "40000/40000 [==============================] - 50s 1ms/step - loss: 0.0221 - acc: 0.9931 - val_loss: 0.0460 - val_acc: 0.9840\n",
      "Epoch 87/100\n",
      "40000/40000 [==============================] - 49s 1ms/step - loss: 0.0228 - acc: 0.9931 - val_loss: 0.0448 - val_acc: 0.9860\n",
      "Epoch 88/100\n",
      "40000/40000 [==============================] - 42s 1ms/step - loss: 0.0218 - acc: 0.9933 - val_loss: 0.0435 - val_acc: 0.9860\n",
      "Epoch 89/100\n",
      "40000/40000 [==============================] - 44s 1ms/step - loss: 0.0202 - acc: 0.9942 - val_loss: 0.0441 - val_acc: 0.9880\n",
      "Epoch 90/100\n",
      "40000/40000 [==============================] - 44s 1ms/step - loss: 0.0197 - acc: 0.9946 - val_loss: 0.0465 - val_acc: 0.9845\n",
      "Epoch 91/100\n",
      "40000/40000 [==============================] - 51s 1ms/step - loss: 0.0192 - acc: 0.9943 - val_loss: 0.0422 - val_acc: 0.9850\n",
      "Epoch 92/100\n",
      "40000/40000 [==============================] - 50s 1ms/step - loss: 0.0191 - acc: 0.9945 - val_loss: 0.0407 - val_acc: 0.9865\n",
      "Epoch 93/100\n",
      "40000/40000 [==============================] - 51s 1ms/step - loss: 0.0182 - acc: 0.9946 - val_loss: 0.0422 - val_acc: 0.9855\n",
      "Epoch 94/100\n",
      "40000/40000 [==============================] - 49s 1ms/step - loss: 0.0193 - acc: 0.9943 - val_loss: 0.0426 - val_acc: 0.9845\n",
      "Epoch 95/100\n",
      "40000/40000 [==============================] - 51s 1ms/step - loss: 0.0195 - acc: 0.9939 - val_loss: 0.0422 - val_acc: 0.9870\n",
      "Epoch 96/100\n",
      "40000/40000 [==============================] - 58s 1ms/step - loss: 0.0191 - acc: 0.9942 - val_loss: 0.0423 - val_acc: 0.9840\n",
      "Epoch 97/100\n",
      "40000/40000 [==============================] - 48s 1ms/step - loss: 0.0184 - acc: 0.9945 - val_loss: 0.0417 - val_acc: 0.9870\n",
      "Epoch 98/100\n",
      "40000/40000 [==============================] - 49s 1ms/step - loss: 0.0201 - acc: 0.9937 - val_loss: 0.0420 - val_acc: 0.9825\n",
      "Epoch 99/100\n",
      "40000/40000 [==============================] - 50s 1ms/step - loss: 0.0203 - acc: 0.9937 - val_loss: 0.0442 - val_acc: 0.9850\n",
      "Epoch 100/100\n",
      "40000/40000 [==============================] - 47s 1ms/step - loss: 0.0196 - acc: 0.9940 - val_loss: 0.0430 - val_acc: 0.9890\n"
     ]
    },
    {
     "data": {
      "text/plain": [
       "<keras.callbacks.History at 0x24d0187c550>"
      ]
     },
     "execution_count": 75,
     "metadata": {},
     "output_type": "execute_result"
    }
   ],
   "source": [
    "model.fit(xx_train,\n",
    "          y_train_hot,\n",
    "          epochs=100,\n",
    "#           epochs=30,\n",
    "          validation_data=(xx_test, y_test_hot))"
   ]
  },
  {
   "cell_type": "code",
   "execution_count": 82,
   "metadata": {
    "scrolled": false
   },
   "outputs": [
    {
     "name": "stdout",
     "output_type": "stream",
     "text": [
      "Accuracy = 0.989000\n"
     ]
    }
   ],
   "source": [
    "#prediction code\n",
    "\n",
    "predictions = model.predict(xx_test)\n",
    "\n",
    "predictions = np.argmax(predictions, axis=1)\n",
    "result = pd.DataFrame({'actual': yy_test, 'predict': predictions})\n",
    "\n",
    "accuracy = (result['actual'] == result['predict']).mean()\n",
    "print(\"Accuracy = {0:.6f}\".format(accuracy))\n",
    "      \n",
    "result.head(10)\n",
    "\n",
    "#for submission\n",
    "x_test = test.values\n",
    "x_test = x_test.reshape(28000, 28, 28, 1)\n",
    "\n",
    "\n"
   ]
  },
  {
   "cell_type": "code",
   "execution_count": 97,
   "metadata": {
    "scrolled": false
   },
   "outputs": [
    {
     "name": "stdout",
     "output_type": "stream",
     "text": [
      "(28000, 28, 28, 1)\n"
     ]
    }
   ],
   "source": [
    "print(x_test.shape)\n",
    "\n",
    "predictions_test = model.predict(x_test)\n",
    "predictions_test = np.argmax(predictions_test, axis=1)\n",
    "import csv\n",
    "\n"
   ]
  },
  {
   "cell_type": "code",
   "execution_count": 102,
   "metadata": {},
   "outputs": [
    {
     "name": "stdout",
     "output_type": "stream",
     "text": [
      "       0\n",
      "0      2\n",
      "1      0\n",
      "2      9\n",
      "3      9\n",
      "4      3\n",
      "5      7\n",
      "6      0\n",
      "7      3\n",
      "8      0\n",
      "9      3\n",
      "10     5\n",
      "11     7\n",
      "12     4\n",
      "13     0\n",
      "14     4\n",
      "15     3\n",
      "16     3\n",
      "17     1\n",
      "18     9\n",
      "19     0\n",
      "20     9\n",
      "21     1\n",
      "22     1\n",
      "23     5\n",
      "24     7\n",
      "25     4\n",
      "26     2\n",
      "27     7\n",
      "28     4\n",
      "29     7\n",
      "...   ..\n",
      "27970  5\n",
      "27971  0\n",
      "27972  4\n",
      "27973  8\n",
      "27974  0\n",
      "27975  3\n",
      "27976  6\n",
      "27977  0\n",
      "27978  1\n",
      "27979  9\n",
      "27980  3\n",
      "27981  1\n",
      "27982  1\n",
      "27983  0\n",
      "27984  4\n",
      "27985  5\n",
      "27986  2\n",
      "27987  2\n",
      "27988  9\n",
      "27989  6\n",
      "27990  7\n",
      "27991  6\n",
      "27992  1\n",
      "27993  9\n",
      "27994  7\n",
      "27995  9\n",
      "27996  7\n",
      "27997  3\n",
      "27998  9\n",
      "27999  2\n",
      "\n",
      "[28000 rows x 1 columns]\n"
     ]
    }
   ],
   "source": [
    "predictions_test\n",
    "pr = pd.DataFrame(predictions_test)\n",
    "print(pr)\n",
    "pr.to_csv('sample_submission.csv', index=False, header=False)"
   ]
  },
  {
   "cell_type": "code",
   "execution_count": 98,
   "metadata": {},
   "outputs": [
    {
     "ename": "SyntaxError",
     "evalue": "invalid syntax (<ipython-input-98-a03b41d773d6>, line 6)",
     "output_type": "error",
     "traceback": [
      "\u001b[1;36m  File \u001b[1;32m\"<ipython-input-98-a03b41d773d6>\"\u001b[1;36m, line \u001b[1;32m6\u001b[0m\n\u001b[1;33m    for x in\u001b[0m\n\u001b[1;37m             ^\u001b[0m\n\u001b[1;31mSyntaxError\u001b[0m\u001b[1;31m:\u001b[0m invalid syntax\n"
     ]
    }
   ],
   "source": [
    "with open('sample_submission.csv', 'w') as csvfile:\n",
    "    fieldnames = ['ImageId', 'Label']\n",
    "    writer = csv.DictWriter(csvfile, fieldnames=fieldnames)\n",
    "\n",
    "    writer.writeheader()\n",
    "    for x in "
   ]
  },
  {
   "cell_type": "code",
   "execution_count": null,
   "metadata": {},
   "outputs": [],
   "source": []
  },
  {
   "cell_type": "code",
   "execution_count": null,
   "metadata": {},
   "outputs": [],
   "source": []
  },
  {
   "cell_type": "markdown",
   "metadata": {},
   "source": [
    "##Genalized Fuction"
   ]
  },
  {
   "cell_type": "code",
   "execution_count": 37,
   "metadata": {},
   "outputs": [],
   "source": [
    "def general_function(mod_name, model_name):\n",
    "    y_pred = model_train_predict(mod_name, model_name)\n",
    "    output_prediction(y_pred, model_name)"
   ]
  },
  {
   "cell_type": "code",
   "execution_count": null,
   "metadata": {},
   "outputs": [],
   "source": [
    "from sklearn.model_selection import cross_val_score\n",
    "def model_train_predict(mod_name, model_name):\n",
    "    import_mod = __import__(mod_name, fromlist = str(True))\n",
    "    if hasattr(import_mod, model_name):\n",
    "         f = getattr(import_mod, model_name)\n",
    "    else:\n",
    "        print(\"404\")\n",
    "        return []\n",
    "    clf = f()\n",
    "    clf.fit(x_train, y_train)\n",
    "    y_pred = clf.predict(x_train)\n",
    "    get_acc(y_pred, y_train)\n",
    "    scores = cross_val_score(clf, x_train, y_train, cv=5)\n",
    "    print(\"Accuracy: %0.2f (+/- %0.2f)\" % (scores.mean(), scores.std() * 2))\n",
    "    y_pred = clf.predict(x_test)\n",
    "    return y_pred"
   ]
  },
  {
   "cell_type": "code",
   "execution_count": null,
   "metadata": {},
   "outputs": [],
   "source": [
    "def get_acc(y_pred, y_train):\n",
    "    right_num = (y_train == y_pred).sum()\n",
    "    print(\"acc: \", right_num/n_samples_train)"
   ]
  },
  {
   "cell_type": "code",
   "execution_count": null,
   "metadata": {},
   "outputs": [],
   "source": [
    "def output_prediction(y_pred, model_name):\n",
    "    print(y_pred)\n",
    "    data_predict = {\"ImageId\":range(1, n_samples_test+1), \"Label\":y_pred}\n",
    "    data_predict = pd.DataFrame(data_predict)\n",
    "    data_predict.to_csv(\"dr output %s.csv\" %model_name, index = False)"
   ]
  },
  {
   "cell_type": "code",
   "execution_count": null,
   "metadata": {},
   "outputs": [],
   "source": []
  },
  {
   "cell_type": "code",
   "execution_count": null,
   "metadata": {},
   "outputs": [],
   "source": []
  },
  {
   "cell_type": "code",
   "execution_count": null,
   "metadata": {},
   "outputs": [],
   "source": []
  },
  {
   "cell_type": "markdown",
   "metadata": {},
   "source": [
    "# CNN\n"
   ]
  },
  {
   "cell_type": "code",
   "execution_count": null,
   "metadata": {},
   "outputs": [],
   "source": [
    "#keras learn으로 학습해보자.\n",
    "from keras.datasets import mnist\n",
    "\n",
    "((X_train, y_train), (X_test, y_test)) = mnist.load_data()\n",
    " \n",
    "print(X_train.shape, y_train.shape)\n",
    "print(X_test.shape, y_test.shape)\n",
    "X_train = X_train.reshape(60000, 28 * 28)\n",
    "X_test = X_test.reshape(10000, 28 * 28)\n",
    "\n",
    "print(X_train.shape, X_test.shape)\n",
    "from keras.utils import to_categorical\n",
    "\n",
    "# One hot encoding을 합니다.\n",
    "# np.eye(10)[y_train]과 동일합니다.\n",
    "y_train_hot = to_categorical(y_train)\n",
    "\n",
    "# np.eye(10)[y_test]와 동일합니다.\n",
    "y_test_hot = to_categorical(y_test)\n",
    "\n",
    "print(y_train_hot.shape, y_test_hot.shape)"
   ]
  },
  {
   "cell_type": "code",
   "execution_count": null,
   "metadata": {},
   "outputs": [],
   "source": [
    "import tensorflow as tf\n",
    "import keras\n",
    "from keras.models import Sequential\n",
    "from keras.layers import Dense, Dropout, Activation, Reshape, Conv2D, AveragePooling2D, Flatten\n",
    "from keras.optimizers import adam\n",
    "\n",
    "model_name = \"CNN\"\n",
    "model = Sequential()\n",
    "y_train = keras.utils.to_categorical(y_train, num_classes=10)\n",
    "\n",
    "model.add(Reshape(target_shape=(1, 28, 28), input_shape=(784,)))\n",
    "model.add(Conv2D(kernel_size=(3, 3), filters=32, padding=\"same\", data_format=\"channels_first\", kernel_initializer=\"uniform\", use_bias=False))\n",
    "model.add(AveragePooling2D(pool_size=(2, 2), data_format=\"channels_first\"))\n",
    "model.add(Conv2D(kernel_size=(3, 3), filters=64, padding=\"same\", data_format=\"channels_first\", kernel_initializer=\"uniform\", use_bias=False))\n",
    "model.add(AveragePooling2D(pool_size=(2, 2), data_format=\"channels_first\"))\n",
    "model.add(Flatten())\n",
    "model.add(Dense(output_dim=1000, activation='relu'))\n",
    "model.add(Dense(output_dim=100, activation='relu'))\n",
    "model.add(Dense(output_dim=10, activation='softmax'))\n",
    "\n",
    "adam = keras.optimizers.Adam(lr=0.0005, beta_1=0.9, beta_2=0.999, epsilon=1e-08)\n",
    "model.compile(loss='binary_crossentropy', optimizer=adam, metrics=['accuracy'])\n",
    "\n",
    "model.fit(x_train, y_train, epochs=40, batch_size=64)\n",
    "y_pred = model.predict_classes(x_test)\n",
    "\n",
    "output_prediction(y_pred, model_name)"
   ]
  },
  {
   "cell_type": "code",
   "execution_count": null,
   "metadata": {},
   "outputs": [],
   "source": []
  },
  {
   "cell_type": "code",
   "execution_count": null,
   "metadata": {},
   "outputs": [],
   "source": []
  }
 ],
 "metadata": {
  "kernelspec": {
   "display_name": "Python 3",
   "language": "python",
   "name": "python3"
  },
  "language_info": {
   "codemirror_mode": {
    "name": "ipython",
    "version": 3
   },
   "file_extension": ".py",
   "mimetype": "text/x-python",
   "name": "python",
   "nbconvert_exporter": "python",
   "pygments_lexer": "ipython3",
   "version": "3.6.4"
  }
 },
 "nbformat": 4,
 "nbformat_minor": 2
}
