{
 "cells": [
  {
   "cell_type": "markdown",
   "metadata": {
    "collapsed": true
   },
   "source": [
    "# Single Layer Neural Network\n",
    "\n",
    "이번 시간에는 딥러닝 알고리즘의 가장 기본이 되는 인공신경망(artificial neural network, ANN), 그 중에서도 single-layer neural network 모델을 구현합니다. 오늘은 크게 크게 세 가지 방식, 1) Random Search, 2) h-step Search, 3) Gradient Descent 로 모델을 학습하는 법을 배우며, 이 중에 어떤 것이 가장 좋고 어떤 것을 선택해야하는지를 배웁니다.\n"
   ]
  },
  {
   "cell_type": "code",
   "execution_count": 2,
   "metadata": {
    "collapsed": true
   },
   "outputs": [],
   "source": [
    "import numpy as np"
   ]
  },
  {
   "cell_type": "markdown",
   "metadata": {},
   "source": [
    "## Case 1 - 0.3 x X1 + 0.5 x X2"
   ]
  },
  {
   "cell_type": "markdown",
   "metadata": {},
   "source": [
    "### Load Dataset"
   ]
  },
  {
   "cell_type": "code",
   "execution_count": 7,
   "metadata": {},
   "outputs": [
    {
     "name": "stdout",
     "output_type": "stream",
     "text": [
      "(100,)\n"
     ]
    },
    {
     "data": {
      "text/plain": [
       "array([ 0.32292405,  0.02824925,  0.77935433,  0.51237155,  0.36911944,\n",
       "        0.77536662,  0.52255182,  0.37368944,  0.03106781,  0.59215718])"
      ]
     },
     "execution_count": 7,
     "metadata": {},
     "output_type": "execute_result"
    }
   ],
   "source": [
    "x1 = np.random.rand(100)\n",
    "\n",
    "print(x1.shape)\n",
    "x1[:10]"
   ]
  },
  {
   "cell_type": "code",
   "execution_count": 8,
   "metadata": {},
   "outputs": [
    {
     "name": "stdout",
     "output_type": "stream",
     "text": [
      "(100,)\n"
     ]
    },
    {
     "data": {
      "text/plain": [
       "array([ 0.39483935,  0.67122232,  0.17666455,  0.18080412,  0.36707923,\n",
       "        0.12604496,  0.65165734,  0.87850773,  0.98550692,  0.76684148])"
      ]
     },
     "execution_count": 8,
     "metadata": {},
     "output_type": "execute_result"
    }
   ],
   "source": [
    "x2 = np.random.rand(100)\n",
    "\n",
    "print(x2.shape)\n",
    "x2[:10]"
   ]
  },
  {
   "cell_type": "code",
   "execution_count": 9,
   "metadata": {},
   "outputs": [
    {
     "name": "stdout",
     "output_type": "stream",
     "text": [
      "(100,)\n"
     ]
    },
    {
     "data": {
      "text/plain": [
       "array([ 0.39429689,  0.44408594,  0.42213858,  0.34411353,  0.39427545,\n",
       "        0.39563247,  0.58259422,  0.6513607 ,  0.6020738 ,  0.66106789])"
      ]
     },
     "execution_count": 9,
     "metadata": {},
     "output_type": "execute_result"
    }
   ],
   "source": [
    "y = 0.3 * x1 + 0.5 * x2 + 0.1\n",
    "\n",
    "print(y.shape)\n",
    "y[:10]"
   ]
  },
  {
   "cell_type": "markdown",
   "metadata": {},
   "source": [
    "### First idea: Random Search"
   ]
  },
  {
   "cell_type": "code",
   "execution_count": 16,
   "metadata": {},
   "outputs": [
    {
     "name": "stdout",
     "output_type": "stream",
     "text": [
      "   0 w1 = -0.16538, w2 = -0.64619, b = -0.07813, error = 0.92481\n",
      "   2 w1 = 0.60732, w2 = -0.96803, b = 0.42562, error = 0.37903\n",
      "   3 w1 = -0.29493, w2 = -0.65896, b = 0.64102, error = 0.35231\n",
      "   5 w1 = 0.87899, w2 = -0.38937, b = 0.22045, error = 0.23904\n",
      "   7 w1 = -0.24248, w2 = 0.50377, b = 0.38434, error = 0.14804\n",
      "  10 w1 = 0.18702, w2 = 0.87537, b = 0.09112, error = 0.13302\n",
      "  18 w1 = 0.68040, w2 = 0.19399, b = -0.00064, error = 0.13270\n",
      "  42 w1 = 0.18314, w2 = 0.24889, b = 0.30489, error = 0.06987\n",
      "  54 w1 = 0.35682, w2 = 0.37942, b = 0.10239, error = 0.03871\n",
      " 442 w1 = 0.38362, w2 = 0.36644, b = 0.12395, error = 0.03505\n",
      "3398 w1 = 0.28501, w2 = 0.62950, b = 0.05357, error = 0.03001\n",
      "3612 w1 = 0.25198, w2 = 0.48754, b = 0.09858, error = 0.02786\n",
      "8173 w1 = 0.35903, w2 = 0.48740, b = 0.07439, error = 0.01626\n",
      "------------------------------------------------------------\n",
      "8173 w1 = 0.35903, w2 = 0.48740, b = 0.07439, error = 0.01626\n"
     ]
    }
   ],
   "source": [
    "num_epoch = 10000\n",
    "\n",
    "best_error = np.inf\n",
    "best_epoch = None\n",
    "best_w1 = None\n",
    "best_w2 = None\n",
    "best_b = None\n",
    "\n",
    "for epoch in range(num_epoch):\n",
    "    w1 = np.random.uniform(low=-1.0, high=1.0)\n",
    "    w2 = np.random.uniform(low=-1.0, high=1.0)\n",
    "    b = np.random.uniform(low=-1.0, high=1.0)\n",
    "\n",
    "    y_predict = x1 * w1 + x2 * w2 + b\n",
    "    \n",
    "    error = np.abs(y_predict - y).mean()\n",
    "    \n",
    "    if error < best_error:\n",
    "        best_error = error\n",
    "        best_epoch = epoch\n",
    "        best_w1 = w1\n",
    "        best_w2 = w2\n",
    "        best_b = b\n",
    "\n",
    "        print(\"{0:4} w1 = {1:.5f}, w2 = {2:.5f}, b = {3:.5f}, error = {4:.5f}\".format(epoch, w1, w2, b, error))\n",
    "\n",
    "print(\"----\" * 15)\n",
    "print(\"{0:4} w1 = {1:.5f}, w2 = {2:.5f}, b = {3:.5f}, error = {4:.5f}\".format(best_epoch, best_w1, best_w2, best_b, best_error))"
   ]
  },
  {
   "cell_type": "markdown",
   "metadata": {},
   "source": [
    "### Case 2 - h-step Search"
   ]
  },
  {
   "cell_type": "code",
   "execution_count": 17,
   "metadata": {},
   "outputs": [
    {
     "name": "stdout",
     "output_type": "stream",
     "text": [
      "98 w1 = 0.28303, w2 = 0.49525 b = 0.10730 error = 0.00430\n"
     ]
    }
   ],
   "source": [
    "num_epoch = 10000\n",
    "\n",
    "w1 = np.random.uniform(low=-1.0, high=1.0)\n",
    "w2 = np.random.uniform(low=-1.0, high=1.0)\n",
    "b = np.random.uniform(low=-1.0, high=1.0)\n",
    "\n",
    "h = 0.01\n",
    "\n",
    "for epoch in range(num_epoch):\n",
    "    y_predict = x1 * w1 + x2 * w2 + b\n",
    "    current_error = np.abs(y_predict - y).mean()\n",
    "\n",
    "    if current_error < 0.005:\n",
    "        break\n",
    "\n",
    "    y_predict = x1 * (w1 + h) + x2 * w2 + b\n",
    "    h_plus_error = np.abs(y_predict - y).mean()\n",
    "    if h_plus_error < current_error:\n",
    "        w1 = w1 + h\n",
    "    else:\n",
    "        y_predict = x1 * (w1 - h) + x2 * w2 + b\n",
    "        h_minus_error = np.abs(y_predict - y).mean()\n",
    "        if h_minus_error < current_error:\n",
    "            w1 = w1 - h\n",
    "            \n",
    "    y_predict = x1 * w1 + x2 * (w2 + h) + b\n",
    "    h_plus_error = np.abs(y_predict - y).mean()\n",
    "    if h_plus_error < current_error:\n",
    "        w2 = w2 + h\n",
    "    else:\n",
    "        y_predict = x1 * w1 + x2 * (w2 - h) + b\n",
    "        h_minus_error = np.abs(y_predict - y).mean()\n",
    "        if h_minus_error < current_error:\n",
    "            w2 = w2 - h\n",
    "\n",
    "    y_predict = x1 * w1 + x2 * w2 + (b + h)\n",
    "    h_plus_error = np.abs(y_predict - y).mean()\n",
    "    if h_plus_error < current_error:\n",
    "        b = b + h\n",
    "    else:\n",
    "        y_predict = x1 * w1 + x2 * w2 + (b - h)\n",
    "        h_minus_error = np.abs(y_predict - y).mean()\n",
    "        if h_minus_error < current_error:\n",
    "            b = b - h\n",
    "\n",
    "print(\"{0} w1 = {1:.5f}, w2 = {2:.5f} b = {3:.5f} error = {4:.5f}\".format(epoch, w1, w2, b, current_error))"
   ]
  },
  {
   "cell_type": "markdown",
   "metadata": {},
   "source": [
    "### Third Idea - Gradient Descent"
   ]
  },
  {
   "cell_type": "code",
   "execution_count": 22,
   "metadata": {},
   "outputs": [
    {
     "name": "stdout",
     "output_type": "stream",
     "text": [
      " 0 w1 = 0.56740, w2 = -0.44094 b = 0.25416 error = 0.36645\n",
      "10 w1 = 0.39286, w2 = 0.07422 b = 0.27144 error = 0.10776\n",
      "20 w1 = 0.31619, w2 = 0.28783 b = 0.19948 error = 0.05240\n",
      "30 w1 = 0.29495, w2 = 0.39211 b = 0.15661 error = 0.02633\n",
      "40 w1 = 0.29167, w2 = 0.44422 b = 0.13186 error = 0.01368\n",
      "50 w1 = 0.29321, w2 = 0.47076 b = 0.11780 error = 0.00727\n",
      "------------------------------------------------------------\n",
      "57 w1 = 0.29455, w2 = 0.48005 b = 0.11252 error = 0.00471\n"
     ]
    }
   ],
   "source": [
    "num_epoch = 100\n",
    "learning_rate = 1.1\n",
    "\n",
    "w1 = np.random.uniform(low=-1.0, high=1.0)\n",
    "w2 = np.random.uniform(low=-1.0, high=1.0)\n",
    "b = np.random.uniform(low=-1.0, high=1.0)\n",
    "\n",
    "for epoch in range(num_epoch):\n",
    "    y_predict = x1 * w1 + x2 * w2 + b\n",
    "\n",
    "    error = np.abs(y_predict - y).mean()\n",
    "    if error < 0.005:\n",
    "        break\n",
    "\n",
    "    w1 = w1 - learning_rate * ((y_predict - y) * x1).mean()\n",
    "    w2 = w2 - learning_rate * ((y_predict - y) * x2).mean()\n",
    "    b = b - learning_rate * (y_predict - y).mean()\n",
    "\n",
    "    if epoch % 10 == 0:\n",
    "        print(\"{0:2} w1 = {1:.5f}, w2 = {2:.5f} b = {3:.5f} error = {4:.5f}\".format(epoch, w1, w2, b, error))\n",
    "    \n",
    "print(\"----\" * 15)\n",
    "print(\"{0:2} w1 = {1:.5f}, w2 = {2:.5f} b = {3:.5f} error = {4:.5f}\".format(epoch, w1, w2, b, error))"
   ]
  },
  {
   "cell_type": "code",
   "execution_count": null,
   "metadata": {
    "collapsed": true
   },
   "outputs": [],
   "source": []
  },
  {
   "cell_type": "code",
   "execution_count": null,
   "metadata": {
    "collapsed": true
   },
   "outputs": [],
   "source": []
  },
  {
   "cell_type": "code",
   "execution_count": null,
   "metadata": {
    "collapsed": true
   },
   "outputs": [],
   "source": []
  },
  {
   "cell_type": "code",
   "execution_count": 37,
   "metadata": {},
   "outputs": [
    {
     "name": "stdout",
     "output_type": "stream",
     "text": [
      " 0 w1 = 0.52809, w2 = 0.37146 b = 0.61696 error = 0.93863\n",
      "10 w1 = 0.30652, w2 = 0.34007 b = 0.17986 error = 0.03949\n",
      "20 w1 = 0.29338, w2 = 0.41783 b = 0.14439 error = 0.02005\n",
      "30 w1 = 0.29245, w2 = 0.45732 b = 0.12491 error = 0.01050\n",
      "40 w1 = 0.29429, w2 = 0.47755 b = 0.11389 error = 0.00561\n",
      "------------------------------------------------------------\n",
      "42 w1 = 0.29450, w2 = 0.47893 b = 0.11310 error = 0.00496\n"
     ]
    }
   ],
   "source": [
    "num_epoch = 100\n",
    "learning_rate = 1.1\n",
    "\n",
    "w1 = np.random.uniform(low=-1.0, high=1.0)\n",
    "w2 = np.random.uniform(low=-1.0, high=1.0)\n",
    "b = np.random.uniform(low=-1.0, high=1.0)\n",
    "\n",
    "for epoch in range(num_epoch):\n",
    "    y_predict = x1 * w1 + x2 * w2 + b\n",
    "\n",
    "    error = np.abs(y_predict - y).mean()\n",
    "    if error < 0.005:\n",
    "        break\n",
    "\n",
    "    w1 = w1 - learning_rate * ((y_predict - y) * x1).mean()\n",
    "    w2 = w2 - learning_rate * ((y_predict - y) * x2).mean()\n",
    "    b = b - learning_rate * (y_predict - y).mean()\n",
    "\n",
    "    if epoch % 10 == 0:\n",
    "        print(\"{0:2} w1 = {1:.5f}, w2 = {2:.5f} b = {3:.5f} error = {4:.5f}\".format(epoch, w1, w2, b, error))\n",
    "\n",
    "print(\"----\" * 15)\n",
    "print(\"{0:2} w1 = {1:.5f}, w2 = {2:.5f} b = {3:.5f} error = {4:.5f}\".format(epoch, w1, w2, b, error))"
   ]
  },
  {
   "cell_type": "code",
   "execution_count": null,
   "metadata": {
    "collapsed": true
   },
   "outputs": [],
   "source": []
  }
 ],
 "metadata": {
  "kernelspec": {
   "display_name": "Python 3",
   "language": "python",
   "name": "python3"
  },
  "language_info": {
   "codemirror_mode": {
    "name": "ipython",
    "version": 3
   },
   "file_extension": ".py",
   "mimetype": "text/x-python",
   "name": "python",
   "nbconvert_exporter": "python",
   "pygments_lexer": "ipython3",
   "version": "3.6.3"
  }
 },
 "nbformat": 4,
 "nbformat_minor": 1
}
