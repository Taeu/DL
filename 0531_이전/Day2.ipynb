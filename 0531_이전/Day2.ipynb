{
 "cells": [
  {
   "cell_type": "code",
   "execution_count": 1,
   "metadata": {},
   "outputs": [],
   "source": [
    "import numpy as np"
   ]
  },
  {
   "cell_type": "code",
   "execution_count": 3,
   "metadata": {},
   "outputs": [
    {
     "name": "stdout",
     "output_type": "stream",
     "text": [
      "(100,)\n",
      "[1 0 1 0 0 1 1 0 0]\n"
     ]
    }
   ],
   "source": [
    "x1 = np.random.uniform(low=-1.0,high=1.0,size=100)\n",
    "x2 = np.random.uniform(low=-1.0,high=1.0,size=100)\n",
    "y = np.random.uniform(low=-1.0,high=1.0,size =100)\n",
    "y = 0.3*x1 +0.5*x2 +0.1\n",
    "y = (y>0.0).astype('int')\n",
    "\n",
    "print(y.shape)\n",
    "print(y[1:10])"
   ]
  },
  {
   "cell_type": "markdown",
   "metadata": {},
   "source": [
    "##Gradient Discent"
   ]
  },
  {
   "cell_type": "code",
   "execution_count": 8,
   "metadata": {},
   "outputs": [
    {
     "data": {
      "text/plain": [
       "[<matplotlib.lines.Line2D at 0x25db5a00240>]"
      ]
     },
     "execution_count": 8,
     "metadata": {},
     "output_type": "execute_result"
    },
    {
     "data": {
      "image/png": "[encoded data removed]",
      "text/plain": [
       "<matplotlib.figure.Figure at 0x25db4e1e940>"
      ]
     },
     "metadata": {},
     "output_type": "display_data"
    }
   ],
   "source": [
    "import pandas as pd\n",
    "%matplotlib inline\n",
    "import matplotlib.pyplot as plt\n",
    "def sigmoid(x):\n",
    "    return 1/(1+np.exp(-x))\n",
    "xx = np.linspace(start=-9.0,stop=9.0)\n",
    "yy = sigmoid(xx)\n",
    "\n",
    "plt.plot(xx,yy)"
   ]
  },
  {
   "cell_type": "code",
   "execution_count": 9,
   "metadata": {},
   "outputs": [],
   "source": [
    "## Gradient -> Class "
   ]
  },
  {
   "cell_type": "code",
   "execution_count": 17,
   "metadata": {},
   "outputs": [
    {
     "name": "stdout",
     "output_type": "stream",
     "text": [
      "w1= -0.7559612580633124 , w2= 0.19292180460403352 , predict= 0.36\n",
      "w1= 1.3368417325690993 , w2= 2.2857247952364457 , predict= 0.9\n",
      "w1= 1.389699887666099 , w2= 2.3385829503334445 , predict= 0.9\n",
      "w1= 1.3920247500500642 , w2= 2.3409078127174117 , predict= 0.9\n",
      "w1= 1.3921287178184898 , w2= 2.341011780485836 , predict= 0.9\n",
      "w1= 1.3921333706621417 , w2= 2.3410164333294885 , predict= 0.9\n",
      "w1= 1.3921335788965197 , w2= 2.3410166415638654 , predict= 0.9\n",
      "w1= 1.392133588215901 , w2= 2.3410166508832475 , predict= 0.9\n",
      "w1= 1.3921335886329835 , w2= 2.341016651300331 , predict= 0.9\n",
      "w1= 1.3921335886516497 , w2= 2.341016651318998 , predict= 0.9\n"
     ]
    }
   ],
   "source": [
    "w1 = np.random.uniform(low=-1.0, high=1.0)\n",
    "w2= np.random.uniform(low=-1.0, high=1.0)\n",
    "b = np.random.uniform(low=-1.0,high=1.0)\n",
    "num = 1000\n",
    "learning_rate = 1.0\n",
    "\n",
    "\n",
    "for k in range(num):\n",
    "    y_pred = w1*x1 + w2*x2 + b\n",
    "    y_pred = sigmoid(y_pred)\n",
    "    \n",
    "    predict =  (y_pred > 0.5).astype('int')\n",
    "    accuracy = (predict==y).mean()\n",
    "    if (k %100 == 0 ) :\n",
    "        print(\"w1= {} , w2= {} , accuracy= {}\".format(w1,w2,accuracy))\n",
    "    if(accuracy > 0.95):\n",
    "        break\n",
    "    \n",
    "    w1 = w1-learning_rate*((y_pred - y)*x1).mean()\n",
    "    w2 = w2-learning_rate*((y_pred - y)*x1).mean()\n",
    "    b = b-learning_rate*((y_pred - y)).mean()\n",
    "    "
   ]
  },
  {
   "cell_type": "code",
   "execution_count": 19,
   "metadata": {},
   "outputs": [
    {
     "data": {
      "text/html": [
       "<div>\n",
       "<style scoped>\n",
       "    .dataframe tbody tr th:only-of-type {\n",
       "        vertical-align: middle;\n",
       "    }\n",
       "\n",
       "    .dataframe tbody tr th {\n",
       "        vertical-align: top;\n",
       "    }\n",
       "\n",
       "    .dataframe thead th {\n",
       "        text-align: right;\n",
       "    }\n",
       "</style>\n",
       "<table border=\"1\" class=\"dataframe\">\n",
       "  <thead>\n",
       "    <tr style=\"text-align: right;\">\n",
       "      <th></th>\n",
       "      <th>x1</th>\n",
       "      <th>x2</th>\n",
       "      <th>y</th>\n",
       "      <th>y_pred</th>\n",
       "    </tr>\n",
       "  </thead>\n",
       "  <tbody>\n",
       "    <tr>\n",
       "      <th>0</th>\n",
       "      <td>0.500625</td>\n",
       "      <td>-0.223472</td>\n",
       "      <td>1</td>\n",
       "      <td>1</td>\n",
       "    </tr>\n",
       "    <tr>\n",
       "      <th>1</th>\n",
       "      <td>0.390524</td>\n",
       "      <td>-0.397984</td>\n",
       "      <td>1</td>\n",
       "      <td>1</td>\n",
       "    </tr>\n",
       "    <tr>\n",
       "      <th>2</th>\n",
       "      <td>-0.858600</td>\n",
       "      <td>-0.242305</td>\n",
       "      <td>0</td>\n",
       "      <td>0</td>\n",
       "    </tr>\n",
       "    <tr>\n",
       "      <th>3</th>\n",
       "      <td>0.084847</td>\n",
       "      <td>0.006131</td>\n",
       "      <td>1</td>\n",
       "      <td>1</td>\n",
       "    </tr>\n",
       "    <tr>\n",
       "      <th>4</th>\n",
       "      <td>0.185587</td>\n",
       "      <td>-0.937253</td>\n",
       "      <td>0</td>\n",
       "      <td>0</td>\n",
       "    </tr>\n",
       "    <tr>\n",
       "      <th>5</th>\n",
       "      <td>0.976669</td>\n",
       "      <td>-0.971446</td>\n",
       "      <td>0</td>\n",
       "      <td>0</td>\n",
       "    </tr>\n",
       "    <tr>\n",
       "      <th>6</th>\n",
       "      <td>0.151630</td>\n",
       "      <td>-0.282546</td>\n",
       "      <td>1</td>\n",
       "      <td>1</td>\n",
       "    </tr>\n",
       "    <tr>\n",
       "      <th>7</th>\n",
       "      <td>-0.778240</td>\n",
       "      <td>0.847113</td>\n",
       "      <td>1</td>\n",
       "      <td>1</td>\n",
       "    </tr>\n",
       "    <tr>\n",
       "      <th>8</th>\n",
       "      <td>0.745557</td>\n",
       "      <td>-0.919748</td>\n",
       "      <td>0</td>\n",
       "      <td>0</td>\n",
       "    </tr>\n",
       "    <tr>\n",
       "      <th>9</th>\n",
       "      <td>-0.742060</td>\n",
       "      <td>-0.908233</td>\n",
       "      <td>0</td>\n",
       "      <td>0</td>\n",
       "    </tr>\n",
       "  </tbody>\n",
       "</table>\n",
       "</div>"
      ],
      "text/plain": [
       "         x1        x2  y  y_pred\n",
       "0  0.500625 -0.223472  1       1\n",
       "1  0.390524 -0.397984  1       1\n",
       "2 -0.858600 -0.242305  0       0\n",
       "3  0.084847  0.006131  1       1\n",
       "4  0.185587 -0.937253  0       0\n",
       "5  0.976669 -0.971446  0       0\n",
       "6  0.151630 -0.282546  1       1\n",
       "7 -0.778240  0.847113  1       1\n",
       "8  0.745557 -0.919748  0       0\n",
       "9 -0.742060 -0.908233  0       0"
      ]
     },
     "execution_count": 19,
     "metadata": {},
     "output_type": "execute_result"
    }
   ],
   "source": [
    "result = pd.DataFrame({'x1':x1, 'x2':x2,'y':y ,'y_pred':predict })\n",
    "result.head(10)\n"
   ]
  },
  {
   "cell_type": "markdown",
   "metadata": {},
   "source": [
    "## multi-class classfication"
   ]
  },
  {
   "cell_type": "code",
   "execution_count": 20,
   "metadata": {},
   "outputs": [],
   "source": []
  },
  {
   "cell_type": "code",
   "execution_count": 24,
   "metadata": {},
   "outputs": [],
   "source": []
  },
  {
   "cell_type": "code",
   "execution_count": null,
   "metadata": {},
   "outputs": [],
   "source": []
  }
 ],
 "metadata": {
  "kernelspec": {
   "display_name": "Python 3",
   "language": "python",
   "name": "python3"
  },
  "language_info": {
   "codemirror_mode": {
    "name": "ipython",
    "version": 3
   },
   "file_extension": ".py",
   "mimetype": "text/x-python",
   "name": "python",
   "nbconvert_exporter": "python",
   "pygments_lexer": "ipython3",
   "version": "3.6.4"
  }
 },
 "nbformat": 4,
 "nbformat_minor": 2
}
