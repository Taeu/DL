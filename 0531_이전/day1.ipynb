{
 "cells": [
  {
   "cell_type": "code",
   "execution_count": 1,
   "metadata": {},
   "outputs": [],
   "source": [
    "import numpy as np"
   ]
  },
  {
   "cell_type": "markdown",
   "metadata": {},
   "source": [
    "Generate Datasest"
   ]
  },
  {
   "cell_type": "code",
   "execution_count": 6,
   "metadata": {},
   "outputs": [
    {
     "name": "stdout",
     "output_type": "stream",
     "text": [
      "(100,)\n"
     ]
    },
    {
     "data": {
      "text/plain": [
       "array([0.45972703, 0.43031907, 0.59503466, 0.37749302, 0.06246923,\n",
       "       0.92383442, 0.72682777, 0.00230817, 0.89637728, 0.77741523])"
      ]
     },
     "execution_count": 6,
     "metadata": {},
     "output_type": "execute_result"
    }
   ],
   "source": [
    "x = np.random.uniform(low=0.0, high =1.0, size = 100)\n",
    "\n",
    "print(x.shape)\n",
    "x[0:10]"
   ]
  },
  {
   "cell_type": "code",
   "execution_count": 9,
   "metadata": {},
   "outputs": [
    {
     "name": "stdout",
     "output_type": "stream",
     "text": [
      "(100,)\n"
     ]
    },
    {
     "data": {
      "text/plain": [
       "array([0.13791811, 0.12909572, 0.1785104 , 0.11324791, 0.01874077,\n",
       "       0.27715033, 0.21804833, 0.00069245, 0.26891318, 0.23322457])"
      ]
     },
     "execution_count": 9,
     "metadata": {},
     "output_type": "execute_result"
    }
   ],
   "source": [
    "y = 0.3*x\n",
    "\n",
    "print(y.shape)\n",
    "y[0:10]"
   ]
  },
  {
   "cell_type": "code",
   "execution_count": 14,
   "metadata": {},
   "outputs": [
    {
     "data": {
      "text/plain": [
       "<matplotlib.collections.PathCollection at 0x1b5f158a438>"
      ]
     },
     "execution_count": 14,
     "metadata": {},
     "output_type": "execute_result"
    },
    {
     "data": {
      "image/png": "[encoded data removed]",
      "text/plain": [
       "<matplotlib.figure.Figure at 0x1b5ee1947f0>"
      ]
     },
     "metadata": {},
     "output_type": "display_data"
    }
   ],
   "source": [
    "%matplotlib inline\n",
    "import matplotlib.pyplot as plt\n",
    "plt.scatter(x,y)"
   ]
  },
  {
   "cell_type": "markdown",
   "metadata": {},
   "source": [
    "##Case 1 - Random Search"
   ]
  },
  {
   "cell_type": "code",
   "execution_count": 19,
   "metadata": {},
   "outputs": [],
   "source": [
    "num = 100\n",
    "for a in range(num):\n",
    "    a"
   ]
  },
  {
   "cell_type": "code",
   "execution_count": 40,
   "metadata": {},
   "outputs": [
    {
     "name": "stdout",
     "output_type": "stream",
     "text": [
      "  0 w = 0.04329, error = 0.13429\n",
      "  1 w = 0.38910, error = 0.04661\n",
      " 28 w = 0.28800, error = 0.00628\n",
      " 87 w = 0.30559, error = 0.00293\n"
     ]
    }
   ],
   "source": [
    "\n",
    "best_error = 9999\n",
    "best_w = None\n",
    "\n",
    "for b in range(num):\n",
    "    w= np.random.uniform(low=-1.0, high=1.0)\n",
    "    y_pred = w*x\n",
    "    error = y-y_pred\n",
    "    k = np.abs(error).mean() #np.square().mean()\n",
    "    if ( k < best_error):\n",
    "        best_error = k\n",
    "        best_w = w\n",
    "        print(\"{0:3} w = {1:.5f}, error = {2:.5f}\".format(b,best_w,best_error))"
   ]
  },
  {
   "cell_type": "markdown",
   "metadata": {},
   "source": [
    "### Case 2 - H-step search"
   ]
  },
  {
   "cell_type": "code",
   "execution_count": 49,
   "metadata": {},
   "outputs": [
    {
     "name": "stdout",
     "output_type": "stream",
     "text": [
      "  0 w = -0.09942, error = 0.20895\n",
      "  1 w = 0.00058, error = 0.15663\n",
      "  2 w = 0.10058, error = 0.10432\n",
      "  3 w = 0.20058, error = 0.05201\n",
      "  4 w = 0.30058, error = 0.00030\n"
     ]
    }
   ],
   "source": [
    "# w0, h0 설정\n",
    "w = np.random.uniform(high=1.0,low=-1.0)\n",
    "h= 0.1\n",
    "\n",
    "for b in range(100):\n",
    "    y_pred = w*x\n",
    "    current_error = np.abs(y - y_pred).mean()\n",
    "    \n",
    "    y_pred = (w+h)*x\n",
    "    new_error = np.abs(y-y_pred).mean()\n",
    "    \n",
    "    if(new_error < current_error):\n",
    "        w = w+h\n",
    "        print(\"{0:3} w = {1:.5f}, error = {2:.5f}\".format(b,w,new_error))\n",
    "        continue\n",
    "    y_pred = (w-h)*x\n",
    "    new_error = np.abs(y-y_pred).mean()\n",
    "    \n",
    "    if(new_error<current_error):\n",
    "        w = w-h\n",
    "        print(\"{0:3} w = {1:.5f}, error = {2:.5f}\".format(b,w,new_error))\n",
    "        continue\n",
    "    break\n"
   ]
  },
  {
   "cell_type": "markdown",
   "metadata": {},
   "source": [
    "### Case3 - Gradient discent(not yet)"
   ]
  },
  {
   "cell_type": "code",
   "execution_count": 88,
   "metadata": {},
   "outputs": [
    {
     "name": "stdout",
     "output_type": "stream",
     "text": [
      "-0.17781578280547528\n",
      "0.17781578280547528\n",
      "0 y_pred = -0.017174457670475537 w= 0.137904798787425, error = 0.17781578280547528\n",
      "-0.08479598026492273\n",
      "0.08479598026492273\n",
      "1 y_pred = 0.059343065263911275 w= 0.22270077905234775, error = 0.08479598026492273\n",
      "-0.04043712068548592\n",
      "0.04043712068548592\n",
      "2 y_pred = 0.09583239293941416 w= 0.2631378997378337, error = 0.04043712068548592\n",
      "-0.01928346985581067\n",
      "0.01928346985581067\n",
      "3 y_pred = 0.11323325725322558 w= 0.2824213695936444, error = 0.01928346985581067\n",
      "-0.009195813237351178\n",
      "0.009195813237351178\n",
      "4 y_pred = 0.12153130213803047 w= 0.2916171828309956, error = 0.009195813237351178\n",
      "-0.004385257514780817\n",
      "0.004385257514780817\n",
      "5 y_pred = 0.12548843597164028 w= 0.2960024403457764, error = 0.004385257514780817\n",
      "-0.0020912216216867167\n",
      "0.0020912216216867167\n",
      "6 y_pred = 0.12737549592304803 w= 0.2980936619674631, error = 0.0020912216216867167\n",
      "-0.000997252238042982\n",
      "0.000997252238042982\n",
      "7 y_pred = 0.128275388474056 w= 0.2990909142055061, error = 0.000997252238042982\n"
     ]
    }
   ],
   "source": [
    "w = np.random.uniform(low=-1.0, high= 1.0)\n",
    "\n",
    "for b in range(100):\n",
    "        y_pred = w *x\n",
    "        \n",
    "        error = np.abs(y-y_pred).mean()\n",
    "        print((y_pred-y).mean())\n",
    "        print((y-y_pred).mean())\n",
    "        w = w - (y_pred-y).mean()\n",
    "        print(\"{} y_pred = {} w= {}, error = {}\".format(b,y_pred[1],w,error))\n",
    "        if (error < 0.001): break"
   ]
  },
  {
   "cell_type": "markdown",
   "metadata": {},
   "source": [
    "## @class2\n",
    "## random_search"
   ]
  },
  {
   "cell_type": "code",
   "execution_count": 119,
   "metadata": {},
   "outputs": [
    {
     "name": "stdout",
     "output_type": "stream",
     "text": [
      "  0 w1 = -0.34603,w2 = 0.72377, b= -0.25545 error = 0.54473\n",
      "  3 w1 = -0.87488,w2 = -0.17958, b= 0.91528 error = 0.34094\n",
      " 13 w1 = 0.97196,w2 = 0.43382, b= -0.16786 error = 0.15303\n",
      " 21 w1 = 0.54810,w2 = 0.80445, b= -0.15317 error = 0.10191\n",
      " 26 w1 = 0.31295,w2 = 0.43120, b= 0.15209 error = 0.02603\n"
     ]
    }
   ],
   "source": [
    "x1 = np.random.uniform(low=0.0, high =1.0, size = 100)\n",
    "x2 = np.random.uniform(low=0.0, high =1.0, size = 100)\n",
    "y1 = 0.3* x1+ 0.5*x2+0.1\n",
    "y[0:10]\n",
    "\n",
    "    \n",
    "    \n",
    "best_error = 9999\n",
    "best_w1 = None\n",
    "best_w2 = None\n",
    "best_b = None\n",
    "for b in range(100):\n",
    "    w1 = np.random.uniform(low=-1.0,high=1.0)\n",
    "    w2 =np.random.uniform(low=-1.0,high=1.0)\n",
    "    k = np.random.uniform(low=-1.0,high=1.0)\n",
    "    y_pred = w1*x1 + w2*x2 +k\n",
    "    \n",
    "    error = np.abs( y1-y_pred).mean() #np.square().mean()\n",
    "    if ( error < best_error):\n",
    "        best_error = error\n",
    "        best_w1 = w1\n",
    "        best_w2 = w2\n",
    "        best_b  = k\n",
    "        print(\"{0:3} w1 = {1:.5f},w2 = {2:.5f}, b= {3:.5f} error = {4:.5f}\".format(b,best_w1,best_w2,best_b,best_error))"
   ]
  },
  {
   "cell_type": "code",
   "execution_count": 128,
   "metadata": {},
   "outputs": [
    {
     "name": "stdout",
     "output_type": "stream",
     "text": [
      "  0 w1 = -0.33395,w2 = -0.74835,b = 0.51857 error = 0.56109\n",
      " 10 w1 = 0.02611,w2 = -0.05188,b = 0.52951 error = 0.15313\n",
      " 20 w1 = 0.13548,w2 = 0.21101,b = 0.33651 error = 0.08242\n",
      " 30 w1 = 0.20315,w2 = 0.34757,b = 0.23009 error = 0.04457\n",
      " 40 w1 = 0.24385,w2 = 0.41911,b = 0.17156 error = 0.02419\n",
      " 50 w1 = 0.26781,w2 = 0.45685,b = 0.13936 error = 0.01316\n",
      " 60 w1 = 0.28170,w2 = 0.47687,b = 0.12165 error = 0.00718\n",
      " 70 w1 = 0.28967,w2 = 0.48755,b = 0.11191 error = 0.00393\n",
      " 80 w1 = 0.29420,w2 = 0.49328,b = 0.10655 error = 0.00216\n",
      " 90 w1 = 0.29675,w2 = 0.49636,b = 0.10360 error = 0.00118\n"
     ]
    }
   ],
   "source": [
    "learning_rate = 1\n",
    "x1 = np.random.uniform(low=0.0, high =1.0, size = 100)\n",
    "x2 = np.random.uniform(low=0.0, high =1.0, size = 100)\n",
    "y1 = 0.3* x1+ 0.5* x2 +0.1\n",
    "w1 = np.random.uniform(low=-1.0,high=1.0)\n",
    "w2 = np.random.uniform(low=-1.0,high=1.0)\n",
    "bi = np.random.uniform(low=-1.0,high=1.0)\n",
    "for b in range(1000):\n",
    "        \n",
    "        y_pred = w1 *x1 + w2*x2 + bi\n",
    "         \n",
    "        error = np.abs(y1-y_pred).mean()\n",
    "        if(b%10 ==0) :\n",
    "            print(\"{0:3} w1 = {1:.5f},w2 = {2:.5f},b = {3:.5f} error = {4:.5f}\".format(b,w1,w2,bi,error))\n",
    "        if (error < 0.001): break\n",
    "        w1 = w1 - learning_rate*((y_pred-y1)*x1).mean()\n",
    "        w2 = w2 - learning_rate*((y_pred-y1)*x2).mean()\n",
    "        bi = bi - learning_rate*(y_pred-y1).mean()\n",
    "        "
   ]
  },
  {
   "cell_type": "code",
   "execution_count": null,
   "metadata": {},
   "outputs": [],
   "source": []
  }
 ],
 "metadata": {
  "kernelspec": {
   "display_name": "Python 3",
   "language": "python",
   "name": "python3"
  },
  "language_info": {
   "codemirror_mode": {
    "name": "ipython",
    "version": 3
   },
   "file_extension": ".py",
   "mimetype": "text/x-python",
   "name": "python",
   "nbconvert_exporter": "python",
   "pygments_lexer": "ipython3",
   "version": "3.6.4"
  }
 },
 "nbformat": 4,
 "nbformat_minor": 2
}
